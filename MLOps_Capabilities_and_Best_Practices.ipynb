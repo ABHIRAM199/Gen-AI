{
  "nbformat": 4,
  "nbformat_minor": 0,
  "metadata": {
    "colab": {
      "provenance": [],
      "toc_visible": true,
      "include_colab_link": true
    },
    "kernelspec": {
      "name": "python3",
      "display_name": "Python 3"
    },
    "language_info": {
      "name": "python"
    }
  },
  "cells": [
    {
      "cell_type": "markdown",
      "metadata": {
        "id": "view-in-github",
        "colab_type": "text"
      },
      "source": [
        "<a href=\"https://colab.research.google.com/github/ABHIRAM199/Gen-AI/blob/main/MLOps_Capabilities_and_Best_Practices.ipynb\" target=\"_parent\"><img src=\"https://colab.research.google.com/assets/colab-badge.svg\" alt=\"Open In Colab\"/></a>"
      ]
    },
    {
      "cell_type": "markdown",
      "source": [
        "# MLOps Capabilities and Best Practices"
      ],
      "metadata": {
        "id": "6K9bLwdlLSQu"
      }
    },
    {
      "cell_type": "markdown",
      "source": [
        "**Agenda**\n",
        "- MLOps Capabilities\n",
        "  - Continuous/Integration Deployment(CI/CD)\n",
        "  - Version Control\n",
        "  - Automated Monitoring and Logging of Models in Production\n",
        "  - Reproducibility of Experiments and Traceability of Models\n",
        "  -  Scalability to Handle Large Datasets and High Traffic\n",
        "  - Security and Compliance\n",
        "  - Continuous Learning and Improvement\n",
        "- Collaboration and Communication\n",
        "  - Facilitating Collaboration\n",
        "  - Reproducibility and Traceability\n",
        "  - Scalability and Performance Optimization\n",
        "  - Security and Compliance\n"
      ],
      "metadata": {
        "id": "EJcWEZr4w2a2"
      }
    },
    {
      "cell_type": "markdown",
      "source": [
        "#**MLOps Capabilities**\n",
        "- Continuous Integration/Continuous Deployment (CI/CD) for ML\n",
        "- Version Control for Data, Code, and Models\n",
        "- Automated Monitoring and Logging of Models\n",
        "- Reproducibility of Experiments and Traceability of Models\n",
        "- Scalability for Large Datasets and High Traffic\n",
        "- Security and Compliance\n",
        "- Continuous Learning and Improvement\n"
      ],
      "metadata": {
        "id": "ZhlM09A0LSs2"
      }
    },
    {
      "cell_type": "markdown",
      "source": [
        "###**Continuous Integration/Continuous Deployment (CI/CD) for ML Pipelines**\n",
        "- CI/CD for ML pipelines automates the process of integrating code changes and deploying models into production. This ensures that updates are deployed quickly and reliably.\n",
        "\n",
        "**Key Components:**\n",
        "- Automated testing of code and models.\n",
        "- Seamless integration of various ML tools and libraries.\n"
      ],
      "metadata": {
        "id": "iHMQ76ilNG68"
      }
    },
    {
      "cell_type": "markdown",
      "source": [
        "- **Python Example:** Simple CI/CD Pipeline"
      ],
      "metadata": {
        "id": "4tRTFa2NNhUD"
      }
    },
    {
      "cell_type": "code",
      "execution_count": null,
      "metadata": {
        "colab": {
          "base_uri": "https://localhost:8080/"
        },
        "id": "7wk0M_2uHt0w",
        "outputId": "1f2d44fe-8d91-47df-eada-ac2896eb46e9"
      },
      "outputs": [
        {
          "output_type": "stream",
          "name": "stdout",
          "text": [
            "Model trained and saved successfully.\n"
          ]
        }
      ],
      "source": [
        "import os\n",
        "from sklearn.datasets import load_iris\n",
        "from sklearn.model_selection import train_test_split\n",
        "from sklearn.ensemble import RandomForestClassifier\n",
        "import joblib\n",
        "\n",
        "# Load data\n",
        "data = load_iris()\n",
        "X_train, X_test, y_train, y_test = train_test_split(data.data, data.target, test_size=0.2, random_state=42)\n",
        "\n",
        "# Train model\n",
        "model = RandomForestClassifier()\n",
        "model.fit(X_train, y_train)\n",
        "\n",
        "# Save model for deployment\n",
        "joblib.dump(model, 'model.joblib')\n",
        "\n",
        "print(\"Model trained and saved successfully.\")\n"
      ]
    },
    {
      "cell_type": "markdown",
      "source": [
        "###**Version Control for Data, Code, and Models**\n",
        "- Version control helps manage changes to datasets, code, and models over time, allowing teams to track modifications and revert to previous versions if necessary.\n",
        "\n",
        "**Key Components:**\n",
        "- Use of tools like Git for code versioning.\n",
        "- Data versioning systems like DVC (Data Version Control)."
      ],
      "metadata": {
        "id": "iA84SIWINqgL"
      }
    },
    {
      "cell_type": "markdown",
      "source": [
        "- **Python Example:** Basic Git Commands\n",
        "\n",
        "```\n",
        "# Initialize a new Git repository\n",
        "git init\n",
        "\n",
        "# Add changes to the staging area\n",
        "git add .\n",
        "\n",
        "# Commit changes with a message\n",
        "git commit -m \"Initial commit of the ML model\"\n",
        "```"
      ],
      "metadata": {
        "id": "C81YAP0ZN6K1"
      }
    },
    {
      "cell_type": "markdown",
      "source": [
        "###**Automated Monitoring and Logging of Models in Production**\n",
        "- Automated monitoring ensures that deployed models are performing as expected. Logging provides insights into model predictions and can help diagnose issues.\n",
        "\n",
        "**Key Components:**\n",
        "- Tools like Prometheus for monitoring.\n",
        "- Logging frameworks such as MLflow for tracking experiments."
      ],
      "metadata": {
        "id": "7GeWyi2mOeRG"
      }
    },
    {
      "cell_type": "markdown",
      "source": [
        "- **Python Example:** Basic Logging Setup"
      ],
      "metadata": {
        "id": "noLLo80EOkoD"
      }
    },
    {
      "cell_type": "code",
      "source": [
        "import logging\n",
        "\n",
        "# Set up logging\n",
        "logging.basicConfig(filename='model.log', level=logging.INFO)\n",
        "\n",
        "# Log model predictions\n",
        "def log_predictions(predictions):\n",
        "    for pred in predictions:\n",
        "        logging.info(f'Model prediction: {pred}')\n",
        "\n",
        "log_predictions([0, 1, 2])\n"
      ],
      "metadata": {
        "id": "kllqPa9nN99y"
      },
      "execution_count": null,
      "outputs": []
    },
    {
      "cell_type": "markdown",
      "source": [
        "###**Reproducibility of Experiments and Traceability of Models**\n",
        "- Reproducibility ensures that experiments can be repeated with the same results. Traceability helps track the lineage of models and datasets.\n",
        "\n",
        "**Key Components:**\n",
        "- Utilizing tools like MLflow to track experiments.\n",
        "- Documenting hyperparameters and configurations."
      ],
      "metadata": {
        "id": "GhB-ft6NOs9c"
      }
    },
    {
      "cell_type": "markdown",
      "source": [
        "- **Python Example:** Using MLflow for Tracking"
      ],
      "metadata": {
        "id": "fOOq6wTcOzfj"
      }
    },
    {
      "cell_type": "code",
      "source": [
        "pip install mlflow scikit-learn\n"
      ],
      "metadata": {
        "colab": {
          "base_uri": "https://localhost:8080/"
        },
        "id": "ot3eQcKZPENb",
        "outputId": "fdd7fa1d-35b8-47ea-e8e1-307320f89071"
      },
      "execution_count": null,
      "outputs": [
        {
          "output_type": "stream",
          "name": "stdout",
          "text": [
            "Collecting mlflow\n",
            "  Downloading mlflow-2.16.2-py3-none-any.whl.metadata (29 kB)\n",
            "Requirement already satisfied: scikit-learn in /usr/local/lib/python3.10/dist-packages (1.5.2)\n",
            "Collecting mlflow-skinny==2.16.2 (from mlflow)\n",
            "  Downloading mlflow_skinny-2.16.2-py3-none-any.whl.metadata (30 kB)\n",
            "Requirement already satisfied: Flask<4 in /usr/local/lib/python3.10/dist-packages (from mlflow) (2.2.5)\n",
            "Collecting alembic!=1.10.0,<2 (from mlflow)\n",
            "  Downloading alembic-1.13.3-py3-none-any.whl.metadata (7.4 kB)\n",
            "Collecting docker<8,>=4.0.0 (from mlflow)\n",
            "  Downloading docker-7.1.0-py3-none-any.whl.metadata (3.8 kB)\n",
            "Collecting graphene<4 (from mlflow)\n",
            "  Downloading graphene-3.3-py2.py3-none-any.whl.metadata (7.7 kB)\n",
            "Requirement already satisfied: markdown<4,>=3.3 in /usr/local/lib/python3.10/dist-packages (from mlflow) (3.7)\n",
            "Requirement already satisfied: matplotlib<4 in /usr/local/lib/python3.10/dist-packages (from mlflow) (3.7.1)\n",
            "Requirement already satisfied: numpy<3 in /usr/local/lib/python3.10/dist-packages (from mlflow) (1.26.4)\n",
            "Requirement already satisfied: pandas<3 in /usr/local/lib/python3.10/dist-packages (from mlflow) (2.2.2)\n",
            "Requirement already satisfied: pyarrow<18,>=4.0.0 in /usr/local/lib/python3.10/dist-packages (from mlflow) (16.1.0)\n",
            "Requirement already satisfied: scipy<2 in /usr/local/lib/python3.10/dist-packages (from mlflow) (1.13.1)\n",
            "Requirement already satisfied: sqlalchemy<3,>=1.4.0 in /usr/local/lib/python3.10/dist-packages (from mlflow) (2.0.35)\n",
            "Requirement already satisfied: Jinja2<4,>=2.11 in /usr/local/lib/python3.10/dist-packages (from mlflow) (3.1.4)\n",
            "Collecting gunicorn<24 (from mlflow)\n",
            "  Downloading gunicorn-23.0.0-py3-none-any.whl.metadata (4.4 kB)\n",
            "Requirement already satisfied: cachetools<6,>=5.0.0 in /usr/local/lib/python3.10/dist-packages (from mlflow-skinny==2.16.2->mlflow) (5.5.0)\n",
            "Requirement already satisfied: click<9,>=7.0 in /usr/local/lib/python3.10/dist-packages (from mlflow-skinny==2.16.2->mlflow) (8.1.7)\n",
            "Requirement already satisfied: cloudpickle<4 in /usr/local/lib/python3.10/dist-packages (from mlflow-skinny==2.16.2->mlflow) (2.2.1)\n",
            "Collecting databricks-sdk<1,>=0.20.0 (from mlflow-skinny==2.16.2->mlflow)\n",
            "  Downloading databricks_sdk-0.33.0-py3-none-any.whl.metadata (37 kB)\n",
            "Collecting gitpython<4,>=3.1.9 (from mlflow-skinny==2.16.2->mlflow)\n",
            "  Downloading GitPython-3.1.43-py3-none-any.whl.metadata (13 kB)\n",
            "Requirement already satisfied: importlib-metadata!=4.7.0,<9,>=3.7.0 in /usr/local/lib/python3.10/dist-packages (from mlflow-skinny==2.16.2->mlflow) (8.4.0)\n",
            "Requirement already satisfied: opentelemetry-api<3,>=1.9.0 in /usr/local/lib/python3.10/dist-packages (from mlflow-skinny==2.16.2->mlflow) (1.27.0)\n",
            "Requirement already satisfied: opentelemetry-sdk<3,>=1.9.0 in /usr/local/lib/python3.10/dist-packages (from mlflow-skinny==2.16.2->mlflow) (1.27.0)\n",
            "Requirement already satisfied: packaging<25 in /usr/local/lib/python3.10/dist-packages (from mlflow-skinny==2.16.2->mlflow) (24.1)\n",
            "Requirement already satisfied: protobuf<6,>=3.12.0 in /usr/local/lib/python3.10/dist-packages (from mlflow-skinny==2.16.2->mlflow) (3.20.3)\n",
            "Requirement already satisfied: pyyaml<7,>=5.1 in /usr/local/lib/python3.10/dist-packages (from mlflow-skinny==2.16.2->mlflow) (6.0.2)\n",
            "Requirement already satisfied: requests<3,>=2.17.3 in /usr/local/lib/python3.10/dist-packages (from mlflow-skinny==2.16.2->mlflow) (2.32.3)\n",
            "Requirement already satisfied: sqlparse<1,>=0.4.0 in /usr/local/lib/python3.10/dist-packages (from mlflow-skinny==2.16.2->mlflow) (0.5.1)\n",
            "Requirement already satisfied: joblib>=1.2.0 in /usr/local/lib/python3.10/dist-packages (from scikit-learn) (1.4.2)\n",
            "Requirement already satisfied: threadpoolctl>=3.1.0 in /usr/local/lib/python3.10/dist-packages (from scikit-learn) (3.5.0)\n",
            "Collecting Mako (from alembic!=1.10.0,<2->mlflow)\n",
            "  Downloading Mako-1.3.5-py3-none-any.whl.metadata (2.9 kB)\n",
            "Requirement already satisfied: typing-extensions>=4 in /usr/local/lib/python3.10/dist-packages (from alembic!=1.10.0,<2->mlflow) (4.12.2)\n",
            "Requirement already satisfied: urllib3>=1.26.0 in /usr/local/lib/python3.10/dist-packages (from docker<8,>=4.0.0->mlflow) (2.2.3)\n",
            "Requirement already satisfied: Werkzeug>=2.2.2 in /usr/local/lib/python3.10/dist-packages (from Flask<4->mlflow) (3.0.4)\n",
            "Requirement already satisfied: itsdangerous>=2.0 in /usr/local/lib/python3.10/dist-packages (from Flask<4->mlflow) (2.2.0)\n",
            "Collecting graphql-core<3.3,>=3.1 (from graphene<4->mlflow)\n",
            "  Downloading graphql_core-3.2.4-py3-none-any.whl.metadata (10 kB)\n",
            "Collecting graphql-relay<3.3,>=3.1 (from graphene<4->mlflow)\n",
            "  Downloading graphql_relay-3.2.0-py3-none-any.whl.metadata (12 kB)\n",
            "Collecting aniso8601<10,>=8 (from graphene<4->mlflow)\n",
            "  Downloading aniso8601-9.0.1-py2.py3-none-any.whl.metadata (23 kB)\n",
            "Requirement already satisfied: MarkupSafe>=2.0 in /usr/local/lib/python3.10/dist-packages (from Jinja2<4,>=2.11->mlflow) (2.1.5)\n",
            "Requirement already satisfied: contourpy>=1.0.1 in /usr/local/lib/python3.10/dist-packages (from matplotlib<4->mlflow) (1.3.0)\n",
            "Requirement already satisfied: cycler>=0.10 in /usr/local/lib/python3.10/dist-packages (from matplotlib<4->mlflow) (0.12.1)\n",
            "Requirement already satisfied: fonttools>=4.22.0 in /usr/local/lib/python3.10/dist-packages (from matplotlib<4->mlflow) (4.54.1)\n",
            "Requirement already satisfied: kiwisolver>=1.0.1 in /usr/local/lib/python3.10/dist-packages (from matplotlib<4->mlflow) (1.4.7)\n",
            "Requirement already satisfied: pillow>=6.2.0 in /usr/local/lib/python3.10/dist-packages (from matplotlib<4->mlflow) (10.4.0)\n",
            "Requirement already satisfied: pyparsing>=2.3.1 in /usr/local/lib/python3.10/dist-packages (from matplotlib<4->mlflow) (3.1.4)\n",
            "Requirement already satisfied: python-dateutil>=2.7 in /usr/local/lib/python3.10/dist-packages (from matplotlib<4->mlflow) (2.8.2)\n",
            "Requirement already satisfied: pytz>=2020.1 in /usr/local/lib/python3.10/dist-packages (from pandas<3->mlflow) (2024.2)\n",
            "Requirement already satisfied: tzdata>=2022.7 in /usr/local/lib/python3.10/dist-packages (from pandas<3->mlflow) (2024.2)\n",
            "Requirement already satisfied: greenlet!=0.4.17 in /usr/local/lib/python3.10/dist-packages (from sqlalchemy<3,>=1.4.0->mlflow) (3.1.1)\n",
            "Requirement already satisfied: google-auth~=2.0 in /usr/local/lib/python3.10/dist-packages (from databricks-sdk<1,>=0.20.0->mlflow-skinny==2.16.2->mlflow) (2.27.0)\n",
            "Collecting gitdb<5,>=4.0.1 (from gitpython<4,>=3.1.9->mlflow-skinny==2.16.2->mlflow)\n",
            "  Downloading gitdb-4.0.11-py3-none-any.whl.metadata (1.2 kB)\n",
            "Requirement already satisfied: zipp>=0.5 in /usr/local/lib/python3.10/dist-packages (from importlib-metadata!=4.7.0,<9,>=3.7.0->mlflow-skinny==2.16.2->mlflow) (3.20.2)\n",
            "Requirement already satisfied: deprecated>=1.2.6 in /usr/local/lib/python3.10/dist-packages (from opentelemetry-api<3,>=1.9.0->mlflow-skinny==2.16.2->mlflow) (1.2.14)\n",
            "Requirement already satisfied: opentelemetry-semantic-conventions==0.48b0 in /usr/local/lib/python3.10/dist-packages (from opentelemetry-sdk<3,>=1.9.0->mlflow-skinny==2.16.2->mlflow) (0.48b0)\n",
            "Requirement already satisfied: six>=1.5 in /usr/local/lib/python3.10/dist-packages (from python-dateutil>=2.7->matplotlib<4->mlflow) (1.16.0)\n",
            "Requirement already satisfied: charset-normalizer<4,>=2 in /usr/local/lib/python3.10/dist-packages (from requests<3,>=2.17.3->mlflow-skinny==2.16.2->mlflow) (3.3.2)\n",
            "Requirement already satisfied: idna<4,>=2.5 in /usr/local/lib/python3.10/dist-packages (from requests<3,>=2.17.3->mlflow-skinny==2.16.2->mlflow) (3.10)\n",
            "Requirement already satisfied: certifi>=2017.4.17 in /usr/local/lib/python3.10/dist-packages (from requests<3,>=2.17.3->mlflow-skinny==2.16.2->mlflow) (2024.8.30)\n",
            "Requirement already satisfied: wrapt<2,>=1.10 in /usr/local/lib/python3.10/dist-packages (from deprecated>=1.2.6->opentelemetry-api<3,>=1.9.0->mlflow-skinny==2.16.2->mlflow) (1.16.0)\n",
            "Collecting smmap<6,>=3.0.1 (from gitdb<5,>=4.0.1->gitpython<4,>=3.1.9->mlflow-skinny==2.16.2->mlflow)\n",
            "  Downloading smmap-5.0.1-py3-none-any.whl.metadata (4.3 kB)\n",
            "Requirement already satisfied: pyasn1-modules>=0.2.1 in /usr/local/lib/python3.10/dist-packages (from google-auth~=2.0->databricks-sdk<1,>=0.20.0->mlflow-skinny==2.16.2->mlflow) (0.4.1)\n",
            "Requirement already satisfied: rsa<5,>=3.1.4 in /usr/local/lib/python3.10/dist-packages (from google-auth~=2.0->databricks-sdk<1,>=0.20.0->mlflow-skinny==2.16.2->mlflow) (4.9)\n",
            "Requirement already satisfied: pyasn1<0.7.0,>=0.4.6 in /usr/local/lib/python3.10/dist-packages (from pyasn1-modules>=0.2.1->google-auth~=2.0->databricks-sdk<1,>=0.20.0->mlflow-skinny==2.16.2->mlflow) (0.6.1)\n",
            "Downloading mlflow-2.16.2-py3-none-any.whl (26.7 MB)\n",
            "\u001b[2K   \u001b[90m━━━━━━━━━━━━━━━━━━━━━━━━━━━━━━━━━━━━━━━━\u001b[0m \u001b[32m26.7/26.7 MB\u001b[0m \u001b[31m43.4 MB/s\u001b[0m eta \u001b[36m0:00:00\u001b[0m\n",
            "\u001b[?25hDownloading mlflow_skinny-2.16.2-py3-none-any.whl (5.6 MB)\n",
            "\u001b[2K   \u001b[90m━━━━━━━━━━━━━━━━━━━━━━━━━━━━━━━━━━━━━━━━\u001b[0m \u001b[32m5.6/5.6 MB\u001b[0m \u001b[31m68.4 MB/s\u001b[0m eta \u001b[36m0:00:00\u001b[0m\n",
            "\u001b[?25hDownloading alembic-1.13.3-py3-none-any.whl (233 kB)\n",
            "\u001b[2K   \u001b[90m━━━━━━━━━━━━━━━━━━━━━━━━━━━━━━━━━━━━━━━━\u001b[0m \u001b[32m233.2/233.2 kB\u001b[0m \u001b[31m16.4 MB/s\u001b[0m eta \u001b[36m0:00:00\u001b[0m\n",
            "\u001b[?25hDownloading docker-7.1.0-py3-none-any.whl (147 kB)\n",
            "\u001b[2K   \u001b[90m━━━━━━━━━━━━━━━━━━━━━━━━━━━━━━━━━━━━━━━━\u001b[0m \u001b[32m147.8/147.8 kB\u001b[0m \u001b[31m11.4 MB/s\u001b[0m eta \u001b[36m0:00:00\u001b[0m\n",
            "\u001b[?25hDownloading graphene-3.3-py2.py3-none-any.whl (128 kB)\n",
            "\u001b[2K   \u001b[90m━━━━━━━━━━━━━━━━━━━━━━━━━━━━━━━━━━━━━━━━\u001b[0m \u001b[32m128.2/128.2 kB\u001b[0m \u001b[31m10.1 MB/s\u001b[0m eta \u001b[36m0:00:00\u001b[0m\n",
            "\u001b[?25hDownloading gunicorn-23.0.0-py3-none-any.whl (85 kB)\n",
            "\u001b[2K   \u001b[90m━━━━━━━━━━━━━━━━━━━━━━━━━━━━━━━━━━━━━━━━\u001b[0m \u001b[32m85.0/85.0 kB\u001b[0m \u001b[31m6.2 MB/s\u001b[0m eta \u001b[36m0:00:00\u001b[0m\n",
            "\u001b[?25hDownloading aniso8601-9.0.1-py2.py3-none-any.whl (52 kB)\n",
            "\u001b[2K   \u001b[90m━━━━━━━━━━━━━━━━━━━━━━━━━━━━━━━━━━━━━━━━\u001b[0m \u001b[32m52.8/52.8 kB\u001b[0m \u001b[31m3.9 MB/s\u001b[0m eta \u001b[36m0:00:00\u001b[0m\n",
            "\u001b[?25hDownloading databricks_sdk-0.33.0-py3-none-any.whl (562 kB)\n",
            "\u001b[2K   \u001b[90m━━━━━━━━━━━━━━━━━━━━━━━━━━━━━━━━━━━━━━━━\u001b[0m \u001b[32m563.0/563.0 kB\u001b[0m \u001b[31m28.1 MB/s\u001b[0m eta \u001b[36m0:00:00\u001b[0m\n",
            "\u001b[?25hDownloading GitPython-3.1.43-py3-none-any.whl (207 kB)\n",
            "\u001b[2K   \u001b[90m━━━━━━━━━━━━━━━━━━━━━━━━━━━━━━━━━━━━━━━━\u001b[0m \u001b[32m207.3/207.3 kB\u001b[0m \u001b[31m15.7 MB/s\u001b[0m eta \u001b[36m0:00:00\u001b[0m\n",
            "\u001b[?25hDownloading graphql_core-3.2.4-py3-none-any.whl (203 kB)\n",
            "\u001b[2K   \u001b[90m━━━━━━━━━━━━━━━━━━━━━━━━━━━━━━━━━━━━━━━━\u001b[0m \u001b[32m203.2/203.2 kB\u001b[0m \u001b[31m12.5 MB/s\u001b[0m eta \u001b[36m0:00:00\u001b[0m\n",
            "\u001b[?25hDownloading graphql_relay-3.2.0-py3-none-any.whl (16 kB)\n",
            "Downloading Mako-1.3.5-py3-none-any.whl (78 kB)\n",
            "\u001b[2K   \u001b[90m━━━━━━━━━━━━━━━━━━━━━━━━━━━━━━━━━━━━━━━━\u001b[0m \u001b[32m78.6/78.6 kB\u001b[0m \u001b[31m4.8 MB/s\u001b[0m eta \u001b[36m0:00:00\u001b[0m\n",
            "\u001b[?25hDownloading gitdb-4.0.11-py3-none-any.whl (62 kB)\n",
            "\u001b[2K   \u001b[90m━━━━━━━━━━━━━━━━━━━━━━━━━━━━━━━━━━━━━━━━\u001b[0m \u001b[32m62.7/62.7 kB\u001b[0m \u001b[31m5.0 MB/s\u001b[0m eta \u001b[36m0:00:00\u001b[0m\n",
            "\u001b[?25hDownloading smmap-5.0.1-py3-none-any.whl (24 kB)\n",
            "Installing collected packages: aniso8601, smmap, Mako, gunicorn, graphql-core, graphql-relay, gitdb, docker, alembic, graphene, gitpython, databricks-sdk, mlflow-skinny, mlflow\n",
            "Successfully installed Mako-1.3.5 alembic-1.13.3 aniso8601-9.0.1 databricks-sdk-0.33.0 docker-7.1.0 gitdb-4.0.11 gitpython-3.1.43 graphene-3.3 graphql-core-3.2.4 graphql-relay-3.2.0 gunicorn-23.0.0 mlflow-2.16.2 mlflow-skinny-2.16.2 smmap-5.0.1\n"
          ]
        }
      ]
    },
    {
      "cell_type": "code",
      "source": [
        "import mlflow\n",
        "\n",
        "# Start an MLflow run\n",
        "mlflow.start_run()\n",
        "\n",
        "# Log parameters and model\n",
        "mlflow.log_param(\"n_estimators\", 100)\n",
        "mlflow.log_param(\"max_depth\", 5)\n",
        "\n",
        "# Log model\n",
        "mlflow.sklearn.log_model(model, \"model\")\n",
        "\n",
        "mlflow.end_run()\n"
      ],
      "metadata": {
        "colab": {
          "base_uri": "https://localhost:8080/"
        },
        "id": "2sZhw_QAOpxO",
        "outputId": "8df3a953-b7c4-4d08-bcd9-435563884882"
      },
      "execution_count": null,
      "outputs": [
        {
          "output_type": "stream",
          "name": "stderr",
          "text": [
            "2024/10/04 06:34:39 WARNING mlflow.models.model: Model logged without a signature and input example. Please set `input_example` parameter when logging the model to auto infer the model signature.\n"
          ]
        }
      ]
    },
    {
      "cell_type": "markdown",
      "source": [
        "###**Scalability to Handle Large Datasets and High Traffic**\n",
        "- MLOps capabilities must include the ability to scale up or down based on data volume and user traffic.\n",
        "\n",
        "**Key Components:**\n",
        "- Use of cloud services like AWS, GCP, or Azure for scalable infrastructure.\n",
        "- Distributed training frameworks like TensorFlow or PyTorch."
      ],
      "metadata": {
        "id": "hxvqC6dJPOJC"
      }
    },
    {
      "cell_type": "markdown",
      "source": [
        "- **Python Example:** Scaling with Dask"
      ],
      "metadata": {
        "id": "re78JnggPYt7"
      }
    },
    {
      "cell_type": "code",
      "source": [
        "import dask.dataframe as dd\n",
        "\n",
        "# Load a large dataset\n",
        "df = dd.read_csv('/content/Iris.csv')\n",
        "\n",
        "# Display the columns to ensure we have the right column names\n",
        "print(\"Columns in the dataset:\", df.columns.tolist())\n",
        "\n",
        "# Perform operations in parallel by grouping by a specific column (e.g., 'Species')\n",
        "result = df.groupby('Species').mean().compute()\n",
        "\n",
        "# Print the result\n",
        "print(result)\n"
      ],
      "metadata": {
        "colab": {
          "base_uri": "https://localhost:8080/"
        },
        "id": "9-ppUWmPO4zi",
        "outputId": "0caa630b-afcd-4812-9d8e-be9e1002248f"
      },
      "execution_count": null,
      "outputs": [
        {
          "output_type": "stream",
          "name": "stdout",
          "text": [
            "Columns in the dataset: ['Id', 'SepalLengthCm', 'SepalWidthCm', 'PetalLengthCm', 'PetalWidthCm', 'Species']\n",
            "                    Id  SepalLengthCm  SepalWidthCm  PetalLengthCm  \\\n",
            "Species                                                              \n",
            "Iris-setosa       25.5          5.006         3.418          1.464   \n",
            "Iris-versicolor   75.5          5.936         2.770          4.260   \n",
            "Iris-virginica   125.5          6.588         2.974          5.552   \n",
            "\n",
            "                 PetalWidthCm  \n",
            "Species                        \n",
            "Iris-setosa             0.244  \n",
            "Iris-versicolor         1.326  \n",
            "Iris-virginica          2.026  \n"
          ]
        }
      ]
    },
    {
      "cell_type": "markdown",
      "source": [
        "###**Security and Compliance**\n",
        "- MLOps must ensure that sensitive data is protected and that the processes comply with regulatory requirements (e.g., GDPR, HIPAA).\n",
        "\n",
        "**Key Components:**\n",
        "- Encryption of data in transit and at rest.\n",
        "- Access control mechanisms."
      ],
      "metadata": {
        "id": "NNYs_vFcQKQB"
      }
    },
    {
      "cell_type": "markdown",
      "source": [
        "- **Python Example:** Basic Data Encryption"
      ],
      "metadata": {
        "id": "-qxx6mjIQPVw"
      }
    },
    {
      "cell_type": "code",
      "source": [
        "from cryptography.fernet import Fernet\n",
        "\n",
        "# Generate a key\n",
        "key = Fernet.generate_key()\n",
        "cipher = Fernet(key)\n",
        "\n",
        "# Encrypt sensitive data\n",
        "encrypted_data = cipher.encrypt(b\"My sensitive data\")\n",
        "print(\"Encrypted data:\", encrypted_data)\n",
        "\n",
        "# Decrypt the data\n",
        "decrypted_data = cipher.decrypt(encrypted_data)\n",
        "print(\"Decrypted data:\", decrypted_data.decode())\n"
      ],
      "metadata": {
        "colab": {
          "base_uri": "https://localhost:8080/"
        },
        "id": "Sm3DZczHPe_J",
        "outputId": "e1f67d25-faa6-48d8-9114-638ef8f1741f"
      },
      "execution_count": null,
      "outputs": [
        {
          "output_type": "stream",
          "name": "stdout",
          "text": [
            "Encrypted data: b'gAAAAABm_42y4ZBb5bjIMYJbxlOerLs5etUjLvM1nd-yVMI1VbMQCJHIRk9uoSsFFxHSyR65qua9nTAsBHsbhvfqYlpqpINHreMbuNkB36c_50K5NHrXSzw='\n",
            "Decrypted data: My sensitive data\n"
          ]
        }
      ]
    },
    {
      "cell_type": "markdown",
      "source": [
        "###**Continuous Learning and Improvement**\n",
        "- Continuous learning involves using feedback loops to improve model performance through regular updates and retraining.\n",
        "\n",
        "**Key Components:**\n",
        "- Setting up pipelines for periodic retraining of models.\n",
        "- Collecting user feedback for model improvement."
      ],
      "metadata": {
        "id": "U5EGOL6hQdh0"
      }
    },
    {
      "cell_type": "markdown",
      "source": [
        "- **Python Example:** Simple Feedback Loop"
      ],
      "metadata": {
        "id": "Nk2uEo3CQmEo"
      }
    },
    {
      "cell_type": "code",
      "source": [
        "def feedback_loop(new_data, model):\n",
        "    # Retrain the model with new data\n",
        "    X_new, y_new = new_data\n",
        "    model.fit(X_new, y_new)\n",
        "    joblib.dump(model, 'updated_model.joblib')\n",
        "    print(\"Model retrained with new data.\")\n",
        "\n",
        "# Simulating new data feedback\n",
        "new_data = (X_train, y_train)\n",
        "feedback_loop(new_data, model)\n"
      ],
      "metadata": {
        "colab": {
          "base_uri": "https://localhost:8080/"
        },
        "id": "CGbVbn0pQXvo",
        "outputId": "eb564b6a-50b0-4eb3-c78d-c81b1a0019da"
      },
      "execution_count": null,
      "outputs": [
        {
          "output_type": "stream",
          "name": "stdout",
          "text": [
            "Model retrained with new data.\n"
          ]
        }
      ]
    },
    {
      "cell_type": "markdown",
      "source": [
        "#**Collaboration and Communication**"
      ],
      "metadata": {
        "id": "ag8LjSzKQ21H"
      }
    },
    {
      "cell_type": "markdown",
      "source": [
        "###**Facilitating Collaboration:**\n",
        "- Cross-functional collaboration is critical in MLOps as data scientists, machine learning engineers, software developers, and operations teams must work together. Effective communication helps streamline the handoff between model development and deployment, aligning business and technical goals.\n",
        "\n",
        "**Best Practices:**\n",
        "- **Shared Version Control:** Use tools like Git for code versioning and DVC for tracking dataset versions.\n",
        "- **Collaborative Platforms:** Use platforms like Databricks, Kubeflow, MLflow, or Google Colab to enable shared development environments.\n",
        "- **Cross-team Feedback Loops:** Regular check-ins with stakeholders (data scientists, engineers, and business) to align on progress and challenges."
      ],
      "metadata": {
        "id": "gZmRPdyTQ5F5"
      }
    },
    {
      "cell_type": "markdown",
      "source": [
        "- **Visualization (Team Collaboration Network):**"
      ],
      "metadata": {
        "id": "pWMgr8RrR4_T"
      }
    },
    {
      "cell_type": "code",
      "source": [
        "import matplotlib.pyplot as plt\n",
        "import networkx as nx\n",
        "\n",
        "# Create a graph to represent teams and their interactions\n",
        "G = nx.Graph()\n",
        "\n",
        "# Add edges between teams to represent collaboration paths\n",
        "G.add_edges_from([\n",
        "    (\"Data Scientists\", \"ML Engineers\"),\n",
        "    (\"ML Engineers\", \"Operations\"),\n",
        "    (\"Operations\", \"Business Analysts\"),\n",
        "    (\"Business Analysts\", \"Data Scientists\")\n",
        "])\n",
        "\n",
        "# Plot the graph\n",
        "plt.figure(figsize=(8, 6))\n",
        "nx.draw(G, with_labels=True, node_color=\"skyblue\", font_weight='bold', font_size=12, node_size=3000)\n",
        "plt.title(\"Collaboration between MLOps Teams\")\n",
        "plt.show()\n"
      ],
      "metadata": {
        "colab": {
          "base_uri": "https://localhost:8080/",
          "height": 659
        },
        "id": "XnF-YtDNQp8Y",
        "outputId": "6b82c215-6b4e-4cb5-b13d-054e9fd129ab"
      },
      "execution_count": null,
      "outputs": [
        {
          "output_type": "display_data",
          "data": {
            "text/plain": [
              "<Figure size 800x600 with 1 Axes>"
            ],
            "image/png": "[encoded data removed]"
          },
          "metadata": {}
        }
      ]
    },
    {
      "cell_type": "markdown",
      "source": [
        "###**Reproducibility and Traceability**\n",
        "**Ensuring Reproducibility:**\n",
        "- In MLOps, it's essential to reproduce ML experiments for debugging, collaboration, and regulatory reasons. Reproducibility ensures that teams can consistently recreate model results, and traceability ensures every change in the model pipeline is well-documented.\n",
        "\n",
        "**Best Practices:**\n",
        "- Version Control for Code: Use Git to version code, ensuring every version of the model is documented.\n",
        "- Data Versioning: Use tools like DVC to track changes in datasets.\n",
        "- Model Versioning: Use platforms like MLflow or Weights & Biases to track model versions and performance metrics.\n",
        "- Pipeline Management: Leverage Kubeflow or Airflow to manage pipelines.\n",
        "\n",
        "\n"
      ],
      "metadata": {
        "id": "G7PLrLr9SJS-"
      }
    },
    {
      "cell_type": "markdown",
      "source": [
        "- **Example Code (Tracking Experiments with MLflow):**"
      ],
      "metadata": {
        "id": "UTMn6xJPSaBM"
      }
    },
    {
      "cell_type": "code",
      "source": [
        "import mlflow\n",
        "from sklearn.ensemble import RandomForestClassifier\n",
        "from sklearn.model_selection import train_test_split\n",
        "from sklearn.datasets import load_iris\n",
        "\n",
        "# Load dataset\n",
        "iris = load_iris()\n",
        "X_train, X_test, y_train, y_test = train_test_split(iris.data, iris.target, test_size=0.2)\n",
        "\n",
        "# Start an MLflow run\n",
        "with mlflow.start_run():\n",
        "    # Train a RandomForest model\n",
        "    model = RandomForestClassifier(n_estimators=100)\n",
        "    model.fit(X_train, y_train)\n",
        "\n",
        "    # Log the model\n",
        "    mlflow.sklearn.log_model(model, \"random_forest_model\")\n",
        "\n",
        "    # Log a metric\n",
        "    accuracy = model.score(X_test, y_test)\n",
        "    mlflow.log_metric(\"accuracy\", accuracy)\n"
      ],
      "metadata": {
        "colab": {
          "base_uri": "https://localhost:8080/"
        },
        "id": "fig-2NHbSDEE",
        "outputId": "2d382526-9f2a-4428-8d37-86f45a4c256b"
      },
      "execution_count": null,
      "outputs": [
        {
          "output_type": "stream",
          "name": "stderr",
          "text": [
            "2024/10/04 06:49:02 WARNING mlflow.models.model: Model logged without a signature and input example. Please set `input_example` parameter when logging the model to auto infer the model signature.\n"
          ]
        }
      ]
    },
    {
      "cell_type": "markdown",
      "source": [
        "###**Scalability and Performance Optimization**\n",
        "**Scaling ML Pipelines:**\n",
        "- As the size of datasets and model complexity grow, machine learning systems need to scale efficiently. This involves optimizing resource utilization, enabling parallelism, and using distributed computing frameworks.\n",
        "\n",
        "**Best Practices:**\n",
        "- Distributed Computing: Use platforms like Apache Spark, Kubernetes, or Ray to distribute computations across clusters.\n",
        "- Auto-scaling: Leverage auto-scaling for ML workloads in cloud environments (e.g., AWS Sagemaker, Google AI Platform).\n",
        "- Pipeline Caching: Cache intermediate pipeline steps to avoid re-computation.\n",
        "\n",
        "\n"
      ],
      "metadata": {
        "id": "N9RsCL_iSo5x"
      }
    },
    {
      "cell_type": "markdown",
      "source": [
        "- **Example Code (Scaling ML Workloads with Dask):**"
      ],
      "metadata": {
        "id": "MSeTKN2iSzP3"
      }
    },
    {
      "cell_type": "code",
      "source": [
        "import dask.dataframe as dd\n",
        "\n",
        "# Load large datasets using Dask\n",
        "df = dd.read_csv('/content/Iris.csv')\n",
        "\n",
        "# Perform computations in parallel\n",
        "df_grouped = df.groupby('Species').sum().compute()\n"
      ],
      "metadata": {
        "id": "IKfkqluISeJO"
      },
      "execution_count": null,
      "outputs": []
    },
    {
      "cell_type": "markdown",
      "source": [
        "- **Visualization (Performance Optimization):**"
      ],
      "metadata": {
        "id": "ZIfqkDFATC5I"
      }
    },
    {
      "cell_type": "code",
      "source": [
        "import matplotlib.pyplot as plt\n",
        "\n",
        "# Sample resource utilization data (CPU, Memory)\n",
        "x = ['Initial', 'Optimized']\n",
        "cpu_usage = [75, 45]\n",
        "memory_usage = [65, 35]\n",
        "\n",
        "# Plot resource usage before and after optimization\n",
        "plt.figure(figsize=(8, 6))\n",
        "plt.bar(x, cpu_usage, label='CPU Usage', color='skyblue', width=0.4)\n",
        "plt.bar(x, memory_usage, label='Memory Usage', color='lightgreen', width=0.4, bottom=cpu_usage)\n",
        "plt.ylabel('Resource Utilization (%)')\n",
        "plt.title('Resource Utilization Before and After Optimization')\n",
        "plt.legend()\n",
        "plt.show()\n"
      ],
      "metadata": {
        "colab": {
          "base_uri": "https://localhost:8080/",
          "height": 545
        },
        "id": "16zjx_5jS8gG",
        "outputId": "793d96ff-9b4e-44f4-fbf9-6cbe08d84861"
      },
      "execution_count": null,
      "outputs": [
        {
          "output_type": "display_data",
          "data": {
            "text/plain": [
              "<Figure size 800x600 with 1 Axes>"
            ],
            "image/png": "[encoded data removed]"
          },
          "metadata": {}
        }
      ]
    },
    {
      "cell_type": "markdown",
      "source": [
        "###**Security and Compliance Best Practices**\n",
        "**Security and Compliance:**\n",
        "- Security is critical in MLOps to safeguard sensitive data, maintain model integrity, and comply with industry regulations such as GDPR or HIPAA.\n",
        "\n",
        "**Best Practices:**\n",
        "- Data Encryption: Ensure data is encrypted in transit and at rest.\n",
        "- Role-based Access Control (RBAC): Restrict access to critical components of the ML pipeline.\n",
        "- Audit Logging: Log access to sensitive data and models to maintain traceability and comply with regulations.\n",
        "- Vulnerability Scanning: Regularly scan for vulnerabilities in the model and deployment environments.\n"
      ],
      "metadata": {
        "id": "A_EsFDQ6TMrK"
      }
    },
    {
      "cell_type": "markdown",
      "source": [
        "- **Example Code (Encrypting Data with Python):**"
      ],
      "metadata": {
        "id": "mmq23zA0TXMb"
      }
    },
    {
      "cell_type": "code",
      "source": [
        "from cryptography.fernet import Fernet\n",
        "\n",
        "# Generate a key for encryption\n",
        "key = Fernet.generate_key()\n",
        "\n",
        "# Create a Fernet object for encryption/decryption\n",
        "cipher_suite = Fernet(key)\n",
        "\n",
        "# Encrypt the data\n",
        "cipher_text = cipher_suite.encrypt(b\"My secret data\")\n",
        "\n",
        "# Decrypt the data\n",
        "plain_text = cipher_suite.decrypt(cipher_text)\n",
        "print(plain_text)\n"
      ],
      "metadata": {
        "colab": {
          "base_uri": "https://localhost:8080/"
        },
        "id": "fyo8iHBGTGV2",
        "outputId": "8781f227-af30-430a-c69a-24399797de16"
      },
      "execution_count": null,
      "outputs": [
        {
          "output_type": "stream",
          "name": "stdout",
          "text": [
            "b'My secret data'\n"
          ]
        }
      ]
    },
    {
      "cell_type": "code",
      "source": [],
      "metadata": {
        "id": "bFCLAbnKWH17"
      },
      "execution_count": null,
      "outputs": []
    }
  ]
}