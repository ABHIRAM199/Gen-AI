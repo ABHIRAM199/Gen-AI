{
  "nbformat": 4,
  "nbformat_minor": 0,
  "metadata": {
    "colab": {
      "provenance": [],
      "toc_visible": true,
      "include_colab_link": true
    },
    "kernelspec": {
      "name": "python3",
      "display_name": "Python 3"
    },
    "language_info": {
      "name": "python"
    }
  },
  "cells": [
    {
      "cell_type": "markdown",
      "metadata": {
        "id": "view-in-github",
        "colab_type": "text"
      },
      "source": [
        "<a href=\"https://colab.research.google.com/github/ABHIRAM199/Gen-AI/blob/main/Visualization_of_MLOps_Concepts.ipynb\" target=\"_parent\"><img src=\"https://colab.research.google.com/assets/colab-badge.svg\" alt=\"Open In Colab\"/></a>"
      ]
    },
    {
      "cell_type": "markdown",
      "source": [
        "# Visualization of MLOps Concepts"
      ],
      "metadata": {
        "id": "YD1V9G7rwOEd"
      }
    },
    {
      "cell_type": "markdown",
      "source": [
        "**Agenda**\n",
        "- Visualization of MLOps Concepts\n",
        "  - Python Libraries for Visualization\n",
        "- MLOps Pipeline Stages\n",
        "  - Description of MLOps Pipeline Stages"
      ],
      "metadata": {
        "id": "fiYmz5NbwPt0"
      }
    },
    {
      "cell_type": "markdown",
      "source": [
        "## Visualization of MLOps Concepts"
      ],
      "metadata": {
        "id": "kvWnfY7L_hRG"
      }
    },
    {
      "cell_type": "markdown",
      "source": [
        "- MLOps (Machine Learning Operations) is a practice that combines machine learning, DevOps, and data engineering to automate and streamline the development, deployment, and monitoring of machine learning models.\n",
        "- Visualizing MLOps concepts is key to understanding and effectively managing the lifecycle of machine learning models in production environments.\n",
        "- This tutorial will cover the visualization of key MLOps concepts, including data ingestion, model training, deployment, and monitoring. We will also provide Python code snippets to generate these visualizations using tools like Graphviz, Matplotlib, and Plotly.\n",
        "\n"
      ],
      "metadata": {
        "id": "88PcLhbD_ntS"
      }
    },
    {
      "cell_type": "markdown",
      "source": [
        "### **Key MLOps Concepts to Visualize**"
      ],
      "metadata": {
        "id": "Kmdr9Ffajvni"
      }
    },
    {
      "cell_type": "markdown",
      "source": [
        "#### **Data Ingestion and Processing Pipeline**"
      ],
      "metadata": {
        "id": "Q0Q760qFj-YS"
      }
    },
    {
      "cell_type": "markdown",
      "source": [
        "- This involves the process of collecting raw data from various sources, applying preprocessing steps, and preparing it for model training. This includes:"
      ],
      "metadata": {
        "id": "JISEA4FVjujE"
      }
    },
    {
      "cell_type": "markdown",
      "source": [
        "**Data collection**\n",
        "- Data cleaning\n",
        "- Feature engineering\n",
        "- Data storage\n",
        "\n",
        "**Model Training Pipeline:** This part of the lifecycle involves:\n",
        "- Data splitting (train, test, validation)\n",
        "-Model training\n",
        "- Hyperparameter tuning\n",
        "- Model validation\n",
        "- Model evaluation\n",
        "\n",
        "\n",
        "**Model Deployment Pipeline:** Once the model is trained and evaluated, the next step is to deploy it to a production environment.\n",
        "\n",
        "**This includes:**\n",
        "- Continuous Integration/Continuous Deployment (CI/CD)\n",
        "Model serving\n",
        "\n",
        "**Versioning of models**\n",
        "- **Monitoring Pipeline:** After deployment, it’s crucial to monitor the model's performance in real-time.\n",
        "\n",
        "\n",
        "**Monitoring ensures that:**\n",
        "- Model performance is stable (accuracy, precision, recall)\n",
        "- Data drift and model drift are detected\n",
        "Feedback loops are integrated for retraining\n",
        "\n",
        "**Version Control and Management:** In MLOps, it’s important to maintain:\n",
        "- Code versioning (Git)\n",
        "- Data versioning (DVC)\n",
        "- Model versioning (MLflow)\n"
      ],
      "metadata": {
        "id": "gTW_iC2C_13E"
      }
    },
    {
      "cell_type": "markdown",
      "source": [
        "**1. Data Ingestion and Processing Pipeline\n",
        "Visualization Example**"
      ],
      "metadata": {
        "id": "4-mpLMjsAjr-"
      }
    },
    {
      "cell_type": "code",
      "source": [
        "import graphviz\n",
        "\n",
        "# Create a flowchart to represent data ingestion and preprocessing pipeline\n",
        "dot = graphviz.Digraph(comment='Data Ingestion and Processing Pipeline')\n",
        "\n",
        "dot.node('A', 'Raw Data')\n",
        "dot.node('B', 'Data Cleaning')\n",
        "dot.node('C', 'Feature Engineering')\n",
        "dot.node('D', 'Data Storage')\n",
        "\n",
        "dot.edges(['AB', 'BC', 'CD'])\n",
        "\n",
        "dot.render('data_ingestion_pipeline', format='png', view=True)\n"
      ],
      "metadata": {
        "colab": {
          "base_uri": "https://localhost:8080/",
          "height": 35
        },
        "id": "zQej9WnBAmMZ",
        "outputId": "5461afda-c532-409b-9ea9-55be4cb1fc17"
      },
      "execution_count": null,
      "outputs": [
        {
          "output_type": "execute_result",
          "data": {
            "text/plain": [
              "'data_ingestion_pipeline.png'"
            ],
            "application/vnd.google.colaboratory.intrinsic+json": {
              "type": "string"
            }
          },
          "metadata": {},
          "execution_count": 1
        }
      ]
    },
    {
      "cell_type": "markdown",
      "source": [
        "- This code snippet creates a simple flowchart that illustrates how raw data flows through various preprocessing steps before it is stored."
      ],
      "metadata": {
        "id": "XbRXS6hcAsQx"
      }
    },
    {
      "cell_type": "markdown",
      "source": [
        "**Explanation:**\n",
        "- Raw Data: Collected from various sources (databases, APIs, etc.)\n",
        "- Data Cleaning: Removing null values, correcting inconsistencies\n",
        "- Feature Engineering: Creating new features, scaling, encoding\n",
        "- Data Storage: Final processed data stored in a data warehouse"
      ],
      "metadata": {
        "id": "SBMyY2aKAvxN"
      }
    },
    {
      "cell_type": "markdown",
      "source": [
        "**2. Model Training Pipeline**\n",
        "- Visualization Example"
      ],
      "metadata": {
        "id": "XLKbLAjCA7c6"
      }
    },
    {
      "cell_type": "code",
      "source": [
        "import graphviz\n",
        "\n",
        "# Create a flowchart to represent model training pipeline\n",
        "dot = graphviz.Digraph(comment='Model Training Pipeline')\n",
        "\n",
        "dot.node('A', 'Processed Data')\n",
        "dot.node('B', 'Data Splitting (Train/Test)')\n",
        "dot.node('C', 'Model Training')\n",
        "dot.node('D', 'Model Validation')\n",
        "dot.node('E', 'Model Evaluation')\n",
        "\n",
        "dot.edges(['AB', 'BC', 'CD', 'DE'])\n",
        "\n",
        "dot.render('model_training_pipeline', format='png', view=True)\n"
      ],
      "metadata": {
        "colab": {
          "base_uri": "https://localhost:8080/",
          "height": 35
        },
        "id": "zO3EbNoMA-h8",
        "outputId": "c57663cf-704a-4deb-a3c5-32ce5aff4e81"
      },
      "execution_count": null,
      "outputs": [
        {
          "output_type": "execute_result",
          "data": {
            "text/plain": [
              "'model_training_pipeline.png'"
            ],
            "application/vnd.google.colaboratory.intrinsic+json": {
              "type": "string"
            }
          },
          "metadata": {},
          "execution_count": 2
        }
      ]
    },
    {
      "cell_type": "markdown",
      "source": [
        "**Explanation:**\n",
        "- Processed Data: The cleaned and preprocessed data\n",
        "- Data Splitting: Dividing data into training and testing sets\n",
        "- Model Training: Using algorithms to train the model\n",
        "- Model Validation: Tuning hyperparameters, cross-validation\n",
        "- Model Evaluation: Checking model performance (accuracy, precision, recall)\n"
      ],
      "metadata": {
        "id": "8lf8pMfFBEzw"
      }
    },
    {
      "cell_type": "markdown",
      "source": [
        "**3. Model Deployment Pipeline**\n",
        "- Visualization Example"
      ],
      "metadata": {
        "id": "MH2hnlQcBL4j"
      }
    },
    {
      "cell_type": "code",
      "source": [
        "import graphviz\n",
        "\n",
        "# Create a flowchart for model deployment pipeline\n",
        "dot = graphviz.Digraph(comment='Model Deployment Pipeline')\n",
        "\n",
        "dot.node('A', 'Trained Model')\n",
        "dot.node('B', 'CI/CD Pipeline')\n",
        "dot.node('C', 'Model Serving (API)')\n",
        "dot.node('D', 'Production Environment')\n",
        "\n",
        "dot.edges(['AB', 'BC', 'CD'])\n",
        "\n",
        "dot.render('model_deployment_pipeline', format='png', view=True)\n"
      ],
      "metadata": {
        "colab": {
          "base_uri": "https://localhost:8080/",
          "height": 35
        },
        "id": "aXIyr8WyBOLY",
        "outputId": "14e07784-7d7b-4a0f-db34-e0400b7f34d7"
      },
      "execution_count": null,
      "outputs": [
        {
          "output_type": "execute_result",
          "data": {
            "text/plain": [
              "'model_deployment_pipeline.png'"
            ],
            "application/vnd.google.colaboratory.intrinsic+json": {
              "type": "string"
            }
          },
          "metadata": {},
          "execution_count": 3
        }
      ]
    },
    {
      "cell_type": "markdown",
      "source": [
        "**Explanation:**\n",
        "- Trained Model: The machine learning model that has been evaluated\n",
        "- CI/CD Pipeline: Automating the process of testing, building, and deploying the model\n",
        "- Model Serving: Exposing the model via an API for predictions\n",
        "- Production Environment: The live environment where the model operates on real-time data"
      ],
      "metadata": {
        "id": "wLXsBmx3BSdz"
      }
    },
    {
      "cell_type": "markdown",
      "source": [
        "**4. Monitoring Pipeline**\n",
        "- Visualization Example"
      ],
      "metadata": {
        "id": "N9gFwoneBYAX"
      }
    },
    {
      "cell_type": "code",
      "execution_count": null,
      "metadata": {
        "colab": {
          "base_uri": "https://localhost:8080/",
          "height": 35
        },
        "id": "34fZvm0q-Obi",
        "outputId": "ef20697f-1bdc-444f-b362-862679d127b1"
      },
      "outputs": [
        {
          "output_type": "execute_result",
          "data": {
            "text/plain": [
              "'monitoring_pipeline.png'"
            ],
            "application/vnd.google.colaboratory.intrinsic+json": {
              "type": "string"
            }
          },
          "metadata": {},
          "execution_count": 4
        }
      ],
      "source": [
        "import graphviz\n",
        "\n",
        "# Create a flowchart for monitoring pipeline\n",
        "dot = graphviz.Digraph(comment='Monitoring Pipeline')\n",
        "\n",
        "dot.node('A', 'Deployed Model')\n",
        "dot.node('B', 'Real-Time Monitoring')\n",
        "dot.node('C', 'Performance Metrics (Accuracy, Drift)')\n",
        "dot.node('D', 'Feedback Loop')\n",
        "dot.node('E', 'Retraining')\n",
        "\n",
        "dot.edges(['AB', 'BC', 'CD', 'DE'])\n",
        "\n",
        "dot.render('monitoring_pipeline', format='png', view=True)\n"
      ]
    },
    {
      "cell_type": "markdown",
      "source": [
        "**Explanation:**\n",
        "- Deployed Model: The model that is live in the production environment\n",
        "- Real-Time Monitoring: Tracking the model's performance using metrics\n",
        "- Performance Metrics: Includes accuracy, precision, recall, and detecting drift\n",
        "- Feedback Loop: Gathering user feedback and data drift\n",
        "Retraining: Retraining the model if performance deteriorates"
      ],
      "metadata": {
        "id": "unNtXPDNBgHe"
      }
    },
    {
      "cell_type": "markdown",
      "source": [
        "####**Python Libraries for Visualization:**\n",
        "\n",
        "**Graphviz:**\n",
        "- Used for creating flowcharts and graphs. It's particularly useful for visualizing pipelines and workflows in MLOps.\n",
        "\n",
        "- pip install graphviz\n",
        "\n",
        "**Matplotlib and Plotly:**\n",
        "- These libraries can be used for plotting metrics and visualizing model performance. Matplotlib is great for static plots, while Plotly provides interactive visualizations.\n",
        "- pip install matplotlib plotly\n"
      ],
      "metadata": {
        "id": "dQTEl_dbCMe9"
      }
    },
    {
      "cell_type": "markdown",
      "source": [
        "- **Example: Visualizing Training Metrics using Matplotlib**"
      ],
      "metadata": {
        "id": "mWytU_0hChO5"
      }
    },
    {
      "cell_type": "code",
      "source": [
        "import matplotlib.pyplot as plt\n",
        "\n",
        "# Sample accuracy metrics over time\n",
        "epochs = [1, 2, 3, 4, 5]\n",
        "accuracy = [0.82, 0.85, 0.87, 0.88, 0.90]\n",
        "\n",
        "plt.plot(epochs, accuracy, marker='o')\n",
        "plt.title(\"Model Accuracy over Epochs\")\n",
        "plt.xlabel(\"Epochs\")\n",
        "plt.ylabel(\"Accuracy\")\n",
        "plt.grid(True)\n",
        "plt.show()\n"
      ],
      "metadata": {
        "colab": {
          "base_uri": "https://localhost:8080/",
          "height": 472
        },
        "id": "dB-lfFOACHeY",
        "outputId": "c6dfecdb-a045-4cfb-ff4c-8388a63d18e3"
      },
      "execution_count": null,
      "outputs": [
        {
          "output_type": "display_data",
          "data": {
            "text/plain": [
              "<Figure size 640x480 with 1 Axes>"
            ],
            "image/png": "[encoded data removed]"
          },
          "metadata": {}
        }
      ]
    },
    {
      "cell_type": "markdown",
      "source": [
        "**Example: Visualizing Model Metrics using Plotly**\n"
      ],
      "metadata": {
        "id": "mXl8DPAECoxU"
      }
    },
    {
      "cell_type": "code",
      "source": [
        "import plotly.graph_objects as go\n",
        "\n",
        "# Sample precision and recall data\n",
        "fig = go.Figure()\n",
        "\n",
        "fig.add_trace(go.Scatter(x=[1, 2, 3], y=[0.8, 0.85, 0.88], mode='lines+markers', name='Precision'))\n",
        "fig.add_trace(go.Scatter(x=[1, 2, 3], y=[0.75, 0.80, 0.82], mode='lines+markers', name='Recall'))\n",
        "\n",
        "fig.update_layout(title=\"Precision vs Recall over Epochs\", xaxis_title=\"Epochs\", yaxis_title=\"Metrics\")\n",
        "fig.show()\n"
      ],
      "metadata": {
        "colab": {
          "base_uri": "https://localhost:8080/",
          "height": 542
        },
        "id": "Dk6QwLtICkTY",
        "outputId": "3b203ec2-dad6-4a17-86b9-4e5ae29be960"
      },
      "execution_count": null,
      "outputs": [
        {
          "output_type": "display_data",
          "data": {
            "text/html": [
              "<html>\n",
              "<head><meta charset=\"utf-8\" /></head>\n",
              "<body>\n",
              "    <div>            <script src=\"https://cdnjs.cloudflare.com/ajax/libs/mathjax/2.7.5/MathJax.js?config=TeX-AMS-MML_SVG\"></script><script type=\"text/javascript\">if (window.MathJax && window.MathJax.Hub && window.MathJax.Hub.Config) {window.MathJax.Hub.Config({SVG: {font: \"STIX-Web\"}});}</script>                <script type=\"text/javascript\">window.PlotlyConfig = {MathJaxConfig: 'local'};</script>\n",
              "        <script charset=\"utf-8\" src=\"https://cdn.plot.ly/plotly-2.35.2.min.js\"></script>                <div id=\"e54447fa-e185-4f68-8297-536e9e340d04\" class=\"plotly-graph-div\" style=\"height:525px; width:100%;\"></div>            <script type=\"text/javascript\">                                    window.PLOTLYENV=window.PLOTLYENV || {};                                    if (document.getElementById(\"e54447fa-e185-4f68-8297-536e9e340d04\")) {                    Plotly.newPlot(                        \"e54447fa-e185-4f68-8297-536e9e340d04\",                        [{\"mode\":\"lines+markers\",\"name\":\"Precision\",\"x\":[1,2,3],\"y\":[0.8,0.85,0.88],\"type\":\"scatter\"},{\"mode\":\"lines+markers\",\"name\":\"Recall\",\"x\":[1,2,3],\"y\":[0.75,0.8,0.82],\"type\":\"scatter\"}],                        {\"template\":{\"data\":{\"histogram2dcontour\":[{\"type\":\"histogram2dcontour\",\"colorbar\":{\"outlinewidth\":0,\"ticks\":\"\"},\"colorscale\":[[0.0,\"#0d0887\"],[0.1111111111111111,\"#46039f\"],[0.2222222222222222,\"#7201a8\"],[0.3333333333333333,\"#9c179e\"],[0.4444444444444444,\"#bd3786\"],[0.5555555555555556,\"#d8576b\"],[0.6666666666666666,\"#ed7953\"],[0.7777777777777778,\"#fb9f3a\"],[0.8888888888888888,\"#fdca26\"],[1.0,\"#f0f921\"]]}],\"choropleth\":[{\"type\":\"choropleth\",\"colorbar\":{\"outlinewidth\":0,\"ticks\":\"\"}}],\"histogram2d\":[{\"type\":\"histogram2d\",\"colorbar\":{\"outlinewidth\":0,\"ticks\":\"\"},\"colorscale\":[[0.0,\"#0d0887\"],[0.1111111111111111,\"#46039f\"],[0.2222222222222222,\"#7201a8\"],[0.3333333333333333,\"#9c179e\"],[0.4444444444444444,\"#bd3786\"],[0.5555555555555556,\"#d8576b\"],[0.6666666666666666,\"#ed7953\"],[0.7777777777777778,\"#fb9f3a\"],[0.8888888888888888,\"#fdca26\"],[1.0,\"#f0f921\"]]}],\"heatmap\":[{\"type\":\"heatmap\",\"colorbar\":{\"outlinewidth\":0,\"ticks\":\"\"},\"colorscale\":[[0.0,\"#0d0887\"],[0.1111111111111111,\"#46039f\"],[0.2222222222222222,\"#7201a8\"],[0.3333333333333333,\"#9c179e\"],[0.4444444444444444,\"#bd3786\"],[0.5555555555555556,\"#d8576b\"],[0.6666666666666666,\"#ed7953\"],[0.7777777777777778,\"#fb9f3a\"],[0.8888888888888888,\"#fdca26\"],[1.0,\"#f0f921\"]]}],\"heatmapgl\":[{\"type\":\"heatmapgl\",\"colorbar\":{\"outlinewidth\":0,\"ticks\":\"\"},\"colorscale\":[[0.0,\"#0d0887\"],[0.1111111111111111,\"#46039f\"],[0.2222222222222222,\"#7201a8\"],[0.3333333333333333,\"#9c179e\"],[0.4444444444444444,\"#bd3786\"],[0.5555555555555556,\"#d8576b\"],[0.6666666666666666,\"#ed7953\"],[0.7777777777777778,\"#fb9f3a\"],[0.8888888888888888,\"#fdca26\"],[1.0,\"#f0f921\"]]}],\"contourcarpet\":[{\"type\":\"contourcarpet\",\"colorbar\":{\"outlinewidth\":0,\"ticks\":\"\"}}],\"contour\":[{\"type\":\"contour\",\"colorbar\":{\"outlinewidth\":0,\"ticks\":\"\"},\"colorscale\":[[0.0,\"#0d0887\"],[0.1111111111111111,\"#46039f\"],[0.2222222222222222,\"#7201a8\"],[0.3333333333333333,\"#9c179e\"],[0.4444444444444444,\"#bd3786\"],[0.5555555555555556,\"#d8576b\"],[0.6666666666666666,\"#ed7953\"],[0.7777777777777778,\"#fb9f3a\"],[0.8888888888888888,\"#fdca26\"],[1.0,\"#f0f921\"]]}],\"surface\":[{\"type\":\"surface\",\"colorbar\":{\"outlinewidth\":0,\"ticks\":\"\"},\"colorscale\":[[0.0,\"#0d0887\"],[0.1111111111111111,\"#46039f\"],[0.2222222222222222,\"#7201a8\"],[0.3333333333333333,\"#9c179e\"],[0.4444444444444444,\"#bd3786\"],[0.5555555555555556,\"#d8576b\"],[0.6666666666666666,\"#ed7953\"],[0.7777777777777778,\"#fb9f3a\"],[0.8888888888888888,\"#fdca26\"],[1.0,\"#f0f921\"]]}],\"mesh3d\":[{\"type\":\"mesh3d\",\"colorbar\":{\"outlinewidth\":0,\"ticks\":\"\"}}],\"scatter\":[{\"fillpattern\":{\"fillmode\":\"overlay\",\"size\":10,\"solidity\":0.2},\"type\":\"scatter\"}],\"parcoords\":[{\"type\":\"parcoords\",\"line\":{\"colorbar\":{\"outlinewidth\":0,\"ticks\":\"\"}}}],\"scatterpolargl\":[{\"type\":\"scatterpolargl\",\"marker\":{\"colorbar\":{\"outlinewidth\":0,\"ticks\":\"\"}}}],\"bar\":[{\"error_x\":{\"color\":\"#2a3f5f\"},\"error_y\":{\"color\":\"#2a3f5f\"},\"marker\":{\"line\":{\"color\":\"#E5ECF6\",\"width\":0.5},\"pattern\":{\"fillmode\":\"overlay\",\"size\":10,\"solidity\":0.2}},\"type\":\"bar\"}],\"scattergeo\":[{\"type\":\"scattergeo\",\"marker\":{\"colorbar\":{\"outlinewidth\":0,\"ticks\":\"\"}}}],\"scatterpolar\":[{\"type\":\"scatterpolar\",\"marker\":{\"colorbar\":{\"outlinewidth\":0,\"ticks\":\"\"}}}],\"histogram\":[{\"marker\":{\"pattern\":{\"fillmode\":\"overlay\",\"size\":10,\"solidity\":0.2}},\"type\":\"histogram\"}],\"scattergl\":[{\"type\":\"scattergl\",\"marker\":{\"colorbar\":{\"outlinewidth\":0,\"ticks\":\"\"}}}],\"scatter3d\":[{\"type\":\"scatter3d\",\"line\":{\"colorbar\":{\"outlinewidth\":0,\"ticks\":\"\"}},\"marker\":{\"colorbar\":{\"outlinewidth\":0,\"ticks\":\"\"}}}],\"scattermapbox\":[{\"type\":\"scattermapbox\",\"marker\":{\"colorbar\":{\"outlinewidth\":0,\"ticks\":\"\"}}}],\"scatterternary\":[{\"type\":\"scatterternary\",\"marker\":{\"colorbar\":{\"outlinewidth\":0,\"ticks\":\"\"}}}],\"scattercarpet\":[{\"type\":\"scattercarpet\",\"marker\":{\"colorbar\":{\"outlinewidth\":0,\"ticks\":\"\"}}}],\"carpet\":[{\"aaxis\":{\"endlinecolor\":\"#2a3f5f\",\"gridcolor\":\"white\",\"linecolor\":\"white\",\"minorgridcolor\":\"white\",\"startlinecolor\":\"#2a3f5f\"},\"baxis\":{\"endlinecolor\":\"#2a3f5f\",\"gridcolor\":\"white\",\"linecolor\":\"white\",\"minorgridcolor\":\"white\",\"startlinecolor\":\"#2a3f5f\"},\"type\":\"carpet\"}],\"table\":[{\"cells\":{\"fill\":{\"color\":\"#EBF0F8\"},\"line\":{\"color\":\"white\"}},\"header\":{\"fill\":{\"color\":\"#C8D4E3\"},\"line\":{\"color\":\"white\"}},\"type\":\"table\"}],\"barpolar\":[{\"marker\":{\"line\":{\"color\":\"#E5ECF6\",\"width\":0.5},\"pattern\":{\"fillmode\":\"overlay\",\"size\":10,\"solidity\":0.2}},\"type\":\"barpolar\"}],\"pie\":[{\"automargin\":true,\"type\":\"pie\"}]},\"layout\":{\"autotypenumbers\":\"strict\",\"colorway\":[\"#636efa\",\"#EF553B\",\"#00cc96\",\"#ab63fa\",\"#FFA15A\",\"#19d3f3\",\"#FF6692\",\"#B6E880\",\"#FF97FF\",\"#FECB52\"],\"font\":{\"color\":\"#2a3f5f\"},\"hovermode\":\"closest\",\"hoverlabel\":{\"align\":\"left\"},\"paper_bgcolor\":\"white\",\"plot_bgcolor\":\"#E5ECF6\",\"polar\":{\"bgcolor\":\"#E5ECF6\",\"angularaxis\":{\"gridcolor\":\"white\",\"linecolor\":\"white\",\"ticks\":\"\"},\"radialaxis\":{\"gridcolor\":\"white\",\"linecolor\":\"white\",\"ticks\":\"\"}},\"ternary\":{\"bgcolor\":\"#E5ECF6\",\"aaxis\":{\"gridcolor\":\"white\",\"linecolor\":\"white\",\"ticks\":\"\"},\"baxis\":{\"gridcolor\":\"white\",\"linecolor\":\"white\",\"ticks\":\"\"},\"caxis\":{\"gridcolor\":\"white\",\"linecolor\":\"white\",\"ticks\":\"\"}},\"coloraxis\":{\"colorbar\":{\"outlinewidth\":0,\"ticks\":\"\"}},\"colorscale\":{\"sequential\":[[0.0,\"#0d0887\"],[0.1111111111111111,\"#46039f\"],[0.2222222222222222,\"#7201a8\"],[0.3333333333333333,\"#9c179e\"],[0.4444444444444444,\"#bd3786\"],[0.5555555555555556,\"#d8576b\"],[0.6666666666666666,\"#ed7953\"],[0.7777777777777778,\"#fb9f3a\"],[0.8888888888888888,\"#fdca26\"],[1.0,\"#f0f921\"]],\"sequentialminus\":[[0.0,\"#0d0887\"],[0.1111111111111111,\"#46039f\"],[0.2222222222222222,\"#7201a8\"],[0.3333333333333333,\"#9c179e\"],[0.4444444444444444,\"#bd3786\"],[0.5555555555555556,\"#d8576b\"],[0.6666666666666666,\"#ed7953\"],[0.7777777777777778,\"#fb9f3a\"],[0.8888888888888888,\"#fdca26\"],[1.0,\"#f0f921\"]],\"diverging\":[[0,\"#8e0152\"],[0.1,\"#c51b7d\"],[0.2,\"#de77ae\"],[0.3,\"#f1b6da\"],[0.4,\"#fde0ef\"],[0.5,\"#f7f7f7\"],[0.6,\"#e6f5d0\"],[0.7,\"#b8e186\"],[0.8,\"#7fbc41\"],[0.9,\"#4d9221\"],[1,\"#276419\"]]},\"xaxis\":{\"gridcolor\":\"white\",\"linecolor\":\"white\",\"ticks\":\"\",\"title\":{\"standoff\":15},\"zerolinecolor\":\"white\",\"automargin\":true,\"zerolinewidth\":2},\"yaxis\":{\"gridcolor\":\"white\",\"linecolor\":\"white\",\"ticks\":\"\",\"title\":{\"standoff\":15},\"zerolinecolor\":\"white\",\"automargin\":true,\"zerolinewidth\":2},\"scene\":{\"xaxis\":{\"backgroundcolor\":\"#E5ECF6\",\"gridcolor\":\"white\",\"linecolor\":\"white\",\"showbackground\":true,\"ticks\":\"\",\"zerolinecolor\":\"white\",\"gridwidth\":2},\"yaxis\":{\"backgroundcolor\":\"#E5ECF6\",\"gridcolor\":\"white\",\"linecolor\":\"white\",\"showbackground\":true,\"ticks\":\"\",\"zerolinecolor\":\"white\",\"gridwidth\":2},\"zaxis\":{\"backgroundcolor\":\"#E5ECF6\",\"gridcolor\":\"white\",\"linecolor\":\"white\",\"showbackground\":true,\"ticks\":\"\",\"zerolinecolor\":\"white\",\"gridwidth\":2}},\"shapedefaults\":{\"line\":{\"color\":\"#2a3f5f\"}},\"annotationdefaults\":{\"arrowcolor\":\"#2a3f5f\",\"arrowhead\":0,\"arrowwidth\":1},\"geo\":{\"bgcolor\":\"white\",\"landcolor\":\"#E5ECF6\",\"subunitcolor\":\"white\",\"showland\":true,\"showlakes\":true,\"lakecolor\":\"white\"},\"title\":{\"x\":0.05},\"mapbox\":{\"style\":\"light\"}}},\"title\":{\"text\":\"Precision vs Recall over Epochs\"},\"xaxis\":{\"title\":{\"text\":\"Epochs\"}},\"yaxis\":{\"title\":{\"text\":\"Metrics\"}}},                        {\"responsive\": true}                    ).then(function(){\n",
              "                            \n",
              "var gd = document.getElementById('e54447fa-e185-4f68-8297-536e9e340d04');\n",
              "var x = new MutationObserver(function (mutations, observer) {{\n",
              "        var display = window.getComputedStyle(gd).display;\n",
              "        if (!display || display === 'none') {{\n",
              "            console.log([gd, 'removed!']);\n",
              "            Plotly.purge(gd);\n",
              "            observer.disconnect();\n",
              "        }}\n",
              "}});\n",
              "\n",
              "// Listen for the removal of the full notebook cells\n",
              "var notebookContainer = gd.closest('#notebook-container');\n",
              "if (notebookContainer) {{\n",
              "    x.observe(notebookContainer, {childList: true});\n",
              "}}\n",
              "\n",
              "// Listen for the clearing of the current output cell\n",
              "var outputEl = gd.closest('.output');\n",
              "if (outputEl) {{\n",
              "    x.observe(outputEl, {childList: true});\n",
              "}}\n",
              "\n",
              "                        })                };                            </script>        </div>\n",
              "</body>\n",
              "</html>"
            ]
          },
          "metadata": {}
        }
      ]
    },
    {
      "cell_type": "markdown",
      "source": [
        "##**MLOps Pipeline Stages:**"
      ],
      "metadata": {
        "id": "ZgIoOeRxDQFW"
      }
    },
    {
      "cell_type": "markdown",
      "source": [
        "**Data Collection:**\n",
        "- Gathering data from multiple sources such as databases, APIs, sensors, or files. This is the initial phase where raw data is obtained and used for model building.\n",
        "\n",
        "**Data Validation:**\n",
        "- Validating the quality of the data to ensure it's clean, complete, and relevant. Common checks include missing values, outliers, and incorrect data types.\n",
        "\n",
        "**Data Transformation:**\n",
        "- The raw data is cleaned, transformed, and aggregated into a suitable format for analysis. This may involve scaling, normalizing, and feature encoding.\n",
        "\n",
        "**Feature Engineering:**\n",
        "- Creating features that better represent the underlying patterns in the data, thus improving model performance. This includes techniques like feature scaling, encoding categorical variables, and creating interaction terms.\n",
        "\n",
        "**Model Training:**\n",
        "- Training machine learning models on the processed data. Different algorithms are applied, and hyperparameters are tuned for optimal performance.\n",
        "\n",
        "**Model Evaluation:**\n",
        "- Assessing the performance of the trained models using metrics such as accuracy, precision, recall, F1-score, or AUC-ROC. Based on evaluation results, the model may be re-tuned.\n",
        "\n",
        "**Model Deployment:**\n",
        "- Once the model performs well on validation data, it is deployed to production environments (using Docker, Kubernetes, etc.), making it available for real-time or batch predictions.\n",
        "\n",
        "**Monitoring and Logging:**\n",
        "- Continuous monitoring of model performance in production. This includes tracking metrics like prediction accuracy, response time, and system resource usage to ensure the model behaves as expected over time.\n",
        "\n",
        "**Retraining:**\n",
        "- As new data becomes available, the model is retrained to adapt to the changing data distribution and improve its accuracy over time.\n"
      ],
      "metadata": {
        "id": "N3umfV4NDX5x"
      }
    },
    {
      "cell_type": "markdown",
      "source": [
        "- **Here is a Python code snippet using the matplotlib library to visualize the MLOps pipeline:**"
      ],
      "metadata": {
        "id": "ITmdzfM-D2_P"
      }
    },
    {
      "cell_type": "code",
      "source": [
        "import matplotlib.pyplot as plt\n",
        "import matplotlib.patches as mpatches\n",
        "\n",
        "def plot_mlops_pipeline():\n",
        "    fig, ax = plt.subplots(figsize=(10, 8))\n",
        "\n",
        "    # Define pipeline stages\n",
        "    stages = [\n",
        "        'Data Collection', 'Data Validation', 'Data Transformation',\n",
        "        'Feature Engineering', 'Model Training', 'Model Evaluation',\n",
        "        'Model Deployment', 'Monitoring and Logging', 'Retraining'\n",
        "    ]\n",
        "\n",
        "    # Coordinates for each box in the pipeline\n",
        "    positions = [(0.1, 0.85), (0.1, 0.7), (0.1, 0.55), (0.1, 0.4),\n",
        "                 (0.55, 0.85), (0.55, 0.7), (0.55, 0.55),\n",
        "                 (0.55, 0.4), (0.55, 0.25)]\n",
        "\n",
        "    # Draw each stage box\n",
        "    for i, (x, y) in enumerate(positions):\n",
        "        ax.add_patch(mpatches.FancyBboxPatch((x, y), 0.3, 0.1, boxstyle=\"round,pad=0.1\", edgecolor='black', facecolor='skyblue'))\n",
        "        ax.text(x + 0.15, y + 0.05, stages[i], ha='center', va='center', fontsize=12, color='black')\n",
        "\n",
        "    # Draw arrows between stages\n",
        "    arrows = [\n",
        "        ((0.25, 0.8), (0.25, 0.725)), ((0.25, 0.675), (0.25, 0.6)),\n",
        "        ((0.25, 0.525), (0.25, 0.45)), ((0.25, 0.375), (0.25, 0.3)),\n",
        "        ((0.7, 0.8), (0.7, 0.725)), ((0.7, 0.675), (0.7, 0.6)),\n",
        "        ((0.7, 0.525), (0.7, 0.45)), ((0.7, 0.375), (0.7, 0.3))\n",
        "    ]\n",
        "\n",
        "    for start, end in arrows:\n",
        "        ax.annotate('', xy=end, xycoords='axes fraction', xytext=start, textcoords='axes fraction',\n",
        "                    arrowprops=dict(facecolor='black', shrink=0.05))\n",
        "\n",
        "    # Set plot title\n",
        "    ax.set_title(\"MLOps Pipeline\", fontsize=16, weight='bold')\n",
        "\n",
        "    # Remove axes\n",
        "    ax.set_xticks([])\n",
        "    ax.set_yticks([])\n",
        "    ax.axis('off')\n",
        "\n",
        "    # Show the pipeline\n",
        "    plt.show()\n",
        "\n",
        "# Call the function to plot the MLOps pipeline\n",
        "plot_mlops_pipeline()\n"
      ],
      "metadata": {
        "colab": {
          "base_uri": "https://localhost:8080/",
          "height": 677
        },
        "id": "VmxgJ1NXCu0t",
        "outputId": "f40b48c5-cd82-41f6-ff3b-3ac06843aad2"
      },
      "execution_count": null,
      "outputs": [
        {
          "output_type": "display_data",
          "data": {
            "text/plain": [
              "<Figure size 1000x800 with 1 Axes>"
            ],
            "image/png": "[encoded data removed]"
          },
          "metadata": {}
        }
      ]
    },
    {
      "cell_type": "markdown",
      "source": [
        "###**Description of MLOps Pipeline Stages**\n",
        "\n",
        "**Data Collection:**\n",
        "- In this stage, data is sourced from different origins like databases, IoT sensors, APIs, or even manual data entry. For example, in an e-commerce recommendation system, data might include user purchase history, clicks, and reviews.\n",
        "\n",
        "**Data Validation:**\n",
        "- Validating data means checking for completeness, consistency, and correctness. This ensures that your training data is accurate and free of errors. For instance, data validation can catch missing values or incorrect data formats.\n",
        "\n",
        "**Data Transformation:**\n",
        "- This stage involves cleaning and transforming the data. Tasks may include handling missing values, converting categorical variables to numerical formats, and normalizing features. For example, scaling the features to a standard range (e.g., 0-1).\n",
        "\n",
        "**Feature Engineering:**\n",
        "- Feature engineering involves creating new meaningful features or modifying existing ones. For example, in a house price prediction model, features like \"Number of Bedrooms\" or \"Square Footage\" could be engineered into interaction terms.\n",
        "\n",
        "**Model Training:**\n",
        "- During this stage, machine learning models are trained on the dataset. Various models are evaluated, and their hyperparameters are optimized. For example, training a RandomForestClassifier on the cleaned data.\n",
        "\n",
        "**Model Evaluation:**\n",
        "- After training, models are evaluated on a validation dataset to assess performance. Metrics like accuracy, precision, recall, or ROC AUC are used to evaluate the model.\n",
        "\n",
        "**Model Deployment:**\n",
        "- Once a satisfactory model is obtained, it is deployed to production environments. It can be exposed via REST APIs or integrated into applications. This is typically done using tools like Docker, Kubernetes, or cloud platforms.\n",
        "\n",
        "**Monitoring and Logging:**\n",
        "- Continuous monitoring helps track how well the model performs in production, and logging helps capture issues or deviations in model behavior. Alerts can be set if model performance degrades.\n",
        "\n",
        "**Retraining:**\n",
        "- Retraining involves updating the model based on newly collected data. This stage helps the model adapt to changing data trends or distributions.\n",
        "Key Takeaways\n",
        "\n",
        "**Diagram Visualization:**\n",
        "- Visualizing the MLOps pipeline provides a clear understanding of each stage and its role in the overall machine learning lifecycle.\n",
        "- Automated Workflow: MLOps pipelines enable the automation of tasks such as data preprocessing, model training, and deployment, reducing manual intervention.\n",
        "- Model Lifecycle Management: MLOps emphasizes the continuous management of machine learning models, from their development and deployment to monitoring and retraining."
      ],
      "metadata": {
        "id": "RQa1p8kaEIHL"
      }
    },
    {
      "cell_type": "markdown",
      "source": [
        "###  Real-World Applications"
      ],
      "metadata": {
        "id": "epvF0hbMOWg7"
      }
    },
    {
      "cell_type": "markdown",
      "source": [
        "- Show users how to set up MLOps pipelines in practice using frameworks such as MLflow, Kubeflow, or Airflow.\n",
        "- Implementation:\n",
        "   - MLflow Example: Demonstrate how to use MLflow to track experiments. Show code snippets on how to log model parameters, metrics, and artifacts. Also, provide an example of how to load a model from the    - MLflow registry for deployment.\n",
        "   - Kubeflow Pipelines Example: Walk through setting up a basic Kubeflow pipeline. Use a small example of an end-to-end pipeline for data ingestion, training, evaluation, and model deployment.\n",
        "   - Airflow Example: Include a brief guide on setting up an Airflow DAG to automate data ingestion, training, and deployment schedules. Demonstrate how to use Airflow operators to trigger model retraining."
      ],
      "metadata": {
        "id": "DwOhc-IzOXYd"
      }
    },
    {
      "cell_type": "markdown",
      "source": [
        "**Sample Code for MLflow Experiment Logging**"
      ],
      "metadata": {
        "id": "MDi5KSj6Oqgq"
      }
    },
    {
      "cell_type": "code",
      "source": [
        "!pip install mlflow"
      ],
      "metadata": {
        "colab": {
          "base_uri": "https://localhost:8080/"
        },
        "id": "Eg3c54e_O5g5",
        "outputId": "a4ad5343-953d-45e8-e7b4-f84eed8ab343"
      },
      "execution_count": null,
      "outputs": [
        {
          "output_type": "stream",
          "name": "stdout",
          "text": [
            "Collecting mlflow\n",
            "  Downloading mlflow-2.17.1-py3-none-any.whl.metadata (29 kB)\n",
            "Collecting mlflow-skinny==2.17.1 (from mlflow)\n",
            "  Downloading mlflow_skinny-2.17.1-py3-none-any.whl.metadata (30 kB)\n",
            "Requirement already satisfied: Flask<4 in /usr/local/lib/python3.10/dist-packages (from mlflow) (2.2.5)\n",
            "Collecting alembic!=1.10.0,<2 (from mlflow)\n",
            "  Downloading alembic-1.13.3-py3-none-any.whl.metadata (7.4 kB)\n",
            "Collecting docker<8,>=4.0.0 (from mlflow)\n",
            "  Downloading docker-7.1.0-py3-none-any.whl.metadata (3.8 kB)\n",
            "Collecting graphene<4 (from mlflow)\n",
            "  Downloading graphene-3.4.1-py2.py3-none-any.whl.metadata (6.9 kB)\n",
            "Requirement already satisfied: markdown<4,>=3.3 in /usr/local/lib/python3.10/dist-packages (from mlflow) (3.7)\n",
            "Requirement already satisfied: matplotlib<4 in /usr/local/lib/python3.10/dist-packages (from mlflow) (3.7.1)\n",
            "Requirement already satisfied: numpy<3 in /usr/local/lib/python3.10/dist-packages (from mlflow) (1.26.4)\n",
            "Requirement already satisfied: pandas<3 in /usr/local/lib/python3.10/dist-packages (from mlflow) (2.2.2)\n",
            "Requirement already satisfied: pyarrow<18,>=4.0.0 in /usr/local/lib/python3.10/dist-packages (from mlflow) (16.1.0)\n",
            "Requirement already satisfied: scikit-learn<2 in /usr/local/lib/python3.10/dist-packages (from mlflow) (1.5.2)\n",
            "Requirement already satisfied: scipy<2 in /usr/local/lib/python3.10/dist-packages (from mlflow) (1.13.1)\n",
            "Requirement already satisfied: sqlalchemy<3,>=1.4.0 in /usr/local/lib/python3.10/dist-packages (from mlflow) (2.0.36)\n",
            "Requirement already satisfied: Jinja2<4,>=2.11 in /usr/local/lib/python3.10/dist-packages (from mlflow) (3.1.4)\n",
            "Collecting gunicorn<24 (from mlflow)\n",
            "  Downloading gunicorn-23.0.0-py3-none-any.whl.metadata (4.4 kB)\n",
            "Requirement already satisfied: cachetools<6,>=5.0.0 in /usr/local/lib/python3.10/dist-packages (from mlflow-skinny==2.17.1->mlflow) (5.5.0)\n",
            "Requirement already satisfied: click<9,>=7.0 in /usr/local/lib/python3.10/dist-packages (from mlflow-skinny==2.17.1->mlflow) (8.1.7)\n",
            "Requirement already satisfied: cloudpickle<4 in /usr/local/lib/python3.10/dist-packages (from mlflow-skinny==2.17.1->mlflow) (3.1.0)\n",
            "Collecting databricks-sdk<1,>=0.20.0 (from mlflow-skinny==2.17.1->mlflow)\n",
            "  Downloading databricks_sdk-0.36.0-py3-none-any.whl.metadata (38 kB)\n",
            "Requirement already satisfied: gitpython<4,>=3.1.9 in /usr/local/lib/python3.10/dist-packages (from mlflow-skinny==2.17.1->mlflow) (3.1.43)\n",
            "Requirement already satisfied: importlib-metadata!=4.7.0,<9,>=3.7.0 in /usr/local/lib/python3.10/dist-packages (from mlflow-skinny==2.17.1->mlflow) (8.5.0)\n",
            "Requirement already satisfied: opentelemetry-api<3,>=1.9.0 in /usr/local/lib/python3.10/dist-packages (from mlflow-skinny==2.17.1->mlflow) (1.16.0)\n",
            "Requirement already satisfied: opentelemetry-sdk<3,>=1.9.0 in /usr/local/lib/python3.10/dist-packages (from mlflow-skinny==2.17.1->mlflow) (1.16.0)\n",
            "Requirement already satisfied: packaging<25 in /usr/local/lib/python3.10/dist-packages (from mlflow-skinny==2.17.1->mlflow) (24.1)\n",
            "Requirement already satisfied: protobuf<6,>=3.12.0 in /usr/local/lib/python3.10/dist-packages (from mlflow-skinny==2.17.1->mlflow) (3.20.3)\n",
            "Requirement already satisfied: pyyaml<7,>=5.1 in /usr/local/lib/python3.10/dist-packages (from mlflow-skinny==2.17.1->mlflow) (6.0.2)\n",
            "Requirement already satisfied: requests<3,>=2.17.3 in /usr/local/lib/python3.10/dist-packages (from mlflow-skinny==2.17.1->mlflow) (2.32.3)\n",
            "Requirement already satisfied: sqlparse<1,>=0.4.0 in /usr/local/lib/python3.10/dist-packages (from mlflow-skinny==2.17.1->mlflow) (0.5.1)\n",
            "Collecting Mako (from alembic!=1.10.0,<2->mlflow)\n",
            "  Downloading Mako-1.3.6-py3-none-any.whl.metadata (2.9 kB)\n",
            "Requirement already satisfied: typing-extensions>=4 in /usr/local/lib/python3.10/dist-packages (from alembic!=1.10.0,<2->mlflow) (4.12.2)\n",
            "Requirement already satisfied: urllib3>=1.26.0 in /usr/local/lib/python3.10/dist-packages (from docker<8,>=4.0.0->mlflow) (2.2.3)\n",
            "Requirement already satisfied: Werkzeug>=2.2.2 in /usr/local/lib/python3.10/dist-packages (from Flask<4->mlflow) (3.0.4)\n",
            "Requirement already satisfied: itsdangerous>=2.0 in /usr/local/lib/python3.10/dist-packages (from Flask<4->mlflow) (2.2.0)\n",
            "Collecting graphql-core<3.3,>=3.1 (from graphene<4->mlflow)\n",
            "  Downloading graphql_core-3.2.5-py3-none-any.whl.metadata (10 kB)\n",
            "Collecting graphql-relay<3.3,>=3.1 (from graphene<4->mlflow)\n",
            "  Downloading graphql_relay-3.2.0-py3-none-any.whl.metadata (12 kB)\n",
            "Requirement already satisfied: python-dateutil<3,>=2.7.0 in /usr/local/lib/python3.10/dist-packages (from graphene<4->mlflow) (2.8.2)\n",
            "Requirement already satisfied: MarkupSafe>=2.0 in /usr/local/lib/python3.10/dist-packages (from Jinja2<4,>=2.11->mlflow) (3.0.2)\n",
            "Requirement already satisfied: contourpy>=1.0.1 in /usr/local/lib/python3.10/dist-packages (from matplotlib<4->mlflow) (1.3.0)\n",
            "Requirement already satisfied: cycler>=0.10 in /usr/local/lib/python3.10/dist-packages (from matplotlib<4->mlflow) (0.12.1)\n",
            "Requirement already satisfied: fonttools>=4.22.0 in /usr/local/lib/python3.10/dist-packages (from matplotlib<4->mlflow) (4.54.1)\n",
            "Requirement already satisfied: kiwisolver>=1.0.1 in /usr/local/lib/python3.10/dist-packages (from matplotlib<4->mlflow) (1.4.7)\n",
            "Requirement already satisfied: pillow>=6.2.0 in /usr/local/lib/python3.10/dist-packages (from matplotlib<4->mlflow) (10.4.0)\n",
            "Requirement already satisfied: pyparsing>=2.3.1 in /usr/local/lib/python3.10/dist-packages (from matplotlib<4->mlflow) (3.2.0)\n",
            "Requirement already satisfied: pytz>=2020.1 in /usr/local/lib/python3.10/dist-packages (from pandas<3->mlflow) (2024.2)\n",
            "Requirement already satisfied: tzdata>=2022.7 in /usr/local/lib/python3.10/dist-packages (from pandas<3->mlflow) (2024.2)\n",
            "Requirement already satisfied: joblib>=1.2.0 in /usr/local/lib/python3.10/dist-packages (from scikit-learn<2->mlflow) (1.4.2)\n",
            "Requirement already satisfied: threadpoolctl>=3.1.0 in /usr/local/lib/python3.10/dist-packages (from scikit-learn<2->mlflow) (3.5.0)\n",
            "Requirement already satisfied: greenlet!=0.4.17 in /usr/local/lib/python3.10/dist-packages (from sqlalchemy<3,>=1.4.0->mlflow) (3.1.1)\n",
            "Requirement already satisfied: google-auth~=2.0 in /usr/local/lib/python3.10/dist-packages (from databricks-sdk<1,>=0.20.0->mlflow-skinny==2.17.1->mlflow) (2.27.0)\n",
            "Requirement already satisfied: gitdb<5,>=4.0.1 in /usr/local/lib/python3.10/dist-packages (from gitpython<4,>=3.1.9->mlflow-skinny==2.17.1->mlflow) (4.0.11)\n",
            "Requirement already satisfied: zipp>=3.20 in /usr/local/lib/python3.10/dist-packages (from importlib-metadata!=4.7.0,<9,>=3.7.0->mlflow-skinny==2.17.1->mlflow) (3.20.2)\n",
            "Requirement already satisfied: deprecated>=1.2.6 in /usr/local/lib/python3.10/dist-packages (from opentelemetry-api<3,>=1.9.0->mlflow-skinny==2.17.1->mlflow) (1.2.14)\n",
            "Requirement already satisfied: setuptools>=16.0 in /usr/local/lib/python3.10/dist-packages (from opentelemetry-api<3,>=1.9.0->mlflow-skinny==2.17.1->mlflow) (75.1.0)\n",
            "Requirement already satisfied: opentelemetry-semantic-conventions==0.37b0 in /usr/local/lib/python3.10/dist-packages (from opentelemetry-sdk<3,>=1.9.0->mlflow-skinny==2.17.1->mlflow) (0.37b0)\n",
            "Requirement already satisfied: six>=1.5 in /usr/local/lib/python3.10/dist-packages (from python-dateutil<3,>=2.7.0->graphene<4->mlflow) (1.16.0)\n",
            "Requirement already satisfied: charset-normalizer<4,>=2 in /usr/local/lib/python3.10/dist-packages (from requests<3,>=2.17.3->mlflow-skinny==2.17.1->mlflow) (3.4.0)\n",
            "Requirement already satisfied: idna<4,>=2.5 in /usr/local/lib/python3.10/dist-packages (from requests<3,>=2.17.3->mlflow-skinny==2.17.1->mlflow) (3.10)\n",
            "Requirement already satisfied: certifi>=2017.4.17 in /usr/local/lib/python3.10/dist-packages (from requests<3,>=2.17.3->mlflow-skinny==2.17.1->mlflow) (2024.8.30)\n",
            "Requirement already satisfied: wrapt<2,>=1.10 in /usr/local/lib/python3.10/dist-packages (from deprecated>=1.2.6->opentelemetry-api<3,>=1.9.0->mlflow-skinny==2.17.1->mlflow) (1.16.0)\n",
            "Requirement already satisfied: smmap<6,>=3.0.1 in /usr/local/lib/python3.10/dist-packages (from gitdb<5,>=4.0.1->gitpython<4,>=3.1.9->mlflow-skinny==2.17.1->mlflow) (5.0.1)\n",
            "Requirement already satisfied: pyasn1-modules>=0.2.1 in /usr/local/lib/python3.10/dist-packages (from google-auth~=2.0->databricks-sdk<1,>=0.20.0->mlflow-skinny==2.17.1->mlflow) (0.4.1)\n",
            "Requirement already satisfied: rsa<5,>=3.1.4 in /usr/local/lib/python3.10/dist-packages (from google-auth~=2.0->databricks-sdk<1,>=0.20.0->mlflow-skinny==2.17.1->mlflow) (4.9)\n",
            "Requirement already satisfied: pyasn1<0.7.0,>=0.4.6 in /usr/local/lib/python3.10/dist-packages (from pyasn1-modules>=0.2.1->google-auth~=2.0->databricks-sdk<1,>=0.20.0->mlflow-skinny==2.17.1->mlflow) (0.6.1)\n",
            "Downloading mlflow-2.17.1-py3-none-any.whl (26.7 MB)\n",
            "\u001b[2K   \u001b[90m━━━━━━━━━━━━━━━━━━━━━━━━━━━━━━━━━━━━━━━━\u001b[0m \u001b[32m26.7/26.7 MB\u001b[0m \u001b[31m44.5 MB/s\u001b[0m eta \u001b[36m0:00:00\u001b[0m\n",
            "\u001b[?25hDownloading mlflow_skinny-2.17.1-py3-none-any.whl (5.7 MB)\n",
            "\u001b[2K   \u001b[90m━━━━━━━━━━━━━━━━━━━━━━━━━━━━━━━━━━━━━━━━\u001b[0m \u001b[32m5.7/5.7 MB\u001b[0m \u001b[31m59.7 MB/s\u001b[0m eta \u001b[36m0:00:00\u001b[0m\n",
            "\u001b[?25hDownloading alembic-1.13.3-py3-none-any.whl (233 kB)\n",
            "\u001b[2K   \u001b[90m━━━━━━━━━━━━━━━━━━━━━━━━━━━━━━━━━━━━━━━━\u001b[0m \u001b[32m233.2/233.2 kB\u001b[0m \u001b[31m14.9 MB/s\u001b[0m eta \u001b[36m0:00:00\u001b[0m\n",
            "\u001b[?25hDownloading docker-7.1.0-py3-none-any.whl (147 kB)\n",
            "\u001b[2K   \u001b[90m━━━━━━━━━━━━━━━━━━━━━━━━━━━━━━━━━━━━━━━━\u001b[0m \u001b[32m147.8/147.8 kB\u001b[0m \u001b[31m10.0 MB/s\u001b[0m eta \u001b[36m0:00:00\u001b[0m\n",
            "\u001b[?25hDownloading graphene-3.4.1-py2.py3-none-any.whl (114 kB)\n",
            "\u001b[2K   \u001b[90m━━━━━━━━━━━━━━━━━━━━━━━━━━━━━━━━━━━━━━━━\u001b[0m \u001b[32m114.7/114.7 kB\u001b[0m \u001b[31m7.2 MB/s\u001b[0m eta \u001b[36m0:00:00\u001b[0m\n",
            "\u001b[?25hDownloading gunicorn-23.0.0-py3-none-any.whl (85 kB)\n",
            "\u001b[2K   \u001b[90m━━━━━━━━━━━━━━━━━━━━━━━━━━━━━━━━━━━━━━━━\u001b[0m \u001b[32m85.0/85.0 kB\u001b[0m \u001b[31m7.2 MB/s\u001b[0m eta \u001b[36m0:00:00\u001b[0m\n",
            "\u001b[?25hDownloading databricks_sdk-0.36.0-py3-none-any.whl (569 kB)\n",
            "\u001b[2K   \u001b[90m━━━━━━━━━━━━━━━━━━━━━━━━━━━━━━━━━━━━━━━━\u001b[0m \u001b[32m569.1/569.1 kB\u001b[0m \u001b[31m25.2 MB/s\u001b[0m eta \u001b[36m0:00:00\u001b[0m\n",
            "\u001b[?25hDownloading graphql_core-3.2.5-py3-none-any.whl (203 kB)\n",
            "\u001b[2K   \u001b[90m━━━━━━━━━━━━━━━━━━━━━━━━━━━━━━━━━━━━━━━━\u001b[0m \u001b[32m203.2/203.2 kB\u001b[0m \u001b[31m15.5 MB/s\u001b[0m eta \u001b[36m0:00:00\u001b[0m\n",
            "\u001b[?25hDownloading graphql_relay-3.2.0-py3-none-any.whl (16 kB)\n",
            "Downloading Mako-1.3.6-py3-none-any.whl (78 kB)\n",
            "\u001b[2K   \u001b[90m━━━━━━━━━━━━━━━━━━━━━━━━━━━━━━━━━━━━━━━━\u001b[0m \u001b[32m78.6/78.6 kB\u001b[0m \u001b[31m5.3 MB/s\u001b[0m eta \u001b[36m0:00:00\u001b[0m\n",
            "\u001b[?25hInstalling collected packages: Mako, gunicorn, graphql-core, graphql-relay, docker, alembic, graphene, databricks-sdk, mlflow-skinny, mlflow\n",
            "Successfully installed Mako-1.3.6 alembic-1.13.3 databricks-sdk-0.36.0 docker-7.1.0 graphene-3.4.1 graphql-core-3.2.5 graphql-relay-3.2.0 gunicorn-23.0.0 mlflow-2.17.1 mlflow-skinny-2.17.1\n"
          ]
        }
      ]
    },
    {
      "cell_type": "code",
      "source": [
        "import mlflow\n",
        "import mlflow.sklearn\n",
        "from sklearn.ensemble import RandomForestClassifier\n",
        "from sklearn.metrics import accuracy_score\n",
        "from sklearn.model_selection import train_test_split\n",
        "from sklearn.datasets import load_iris\n",
        "\n",
        "# Load data\n",
        "data = load_iris()\n",
        "X_train, X_test, y_train, y_test = train_test_split(data.data, data.target, test_size=0.2, random_state=42)\n",
        "\n",
        "# Model training and logging\n",
        "with mlflow.start_run():\n",
        "    rf = RandomForestClassifier(n_estimators=50, max_depth=5)\n",
        "    rf.fit(X_train, y_train)\n",
        "\n",
        "    # Log model and parameters\n",
        "    mlflow.log_param(\"n_estimators\", 50)\n",
        "    mlflow.log_param(\"max_depth\", 5)\n",
        "\n",
        "    # Predictions and accuracy\n",
        "    y_pred = rf.predict(X_test)\n",
        "    accuracy = accuracy_score(y_test, y_pred)\n",
        "\n",
        "    # Log metrics\n",
        "    mlflow.log_metric(\"accuracy\", accuracy)\n",
        "    mlflow.sklearn.log_model(rf, \"model\")"
      ],
      "metadata": {
        "colab": {
          "base_uri": "https://localhost:8080/"
        },
        "id": "gcXo93LqOreC",
        "outputId": "71637d3f-aa69-4a3a-f2eb-38c1e2767e05"
      },
      "execution_count": null,
      "outputs": [
        {
          "output_type": "stream",
          "name": "stderr",
          "text": [
            "2024/10/28 08:26:59 WARNING mlflow.models.model: Model logged without a signature and input example. Please set `input_example` parameter when logging the model to auto infer the model signature.\n"
          ]
        }
      ]
    }
  ]
}